{
 "cells": [
  {
   "cell_type": "markdown",
   "metadata": {
    "papermill": {
     "duration": 0.094135,
     "end_time": "2022-02-19T13:39:35.325358",
     "exception": false,
     "start_time": "2022-02-19T13:39:35.231223",
     "status": "completed"
    },
    "tags": []
   },
   "source": [
    "[<img src=\"https://github.com/KevinMusgrave/pytorch-metric-learning/raw/master/docs/imgs/Logo2.png\">]()\n",
    "\n",
    "## Introduction\n",
    "\n",
    "This notebook makes use of the fantastic library `pytorch-metric-learning` developed and maintained by Kevin Musgrave. You can find the github at the following link:\n",
    "\n",
    "- https://github.com/KevinMusgrave/pytorch-metric-learning\n",
    "\n",
    "You can find a ton of useful metric learning modules there, along with a super friendly API for rapid training and evaluation. I recommend reading through the example notebooks because they are very well put together (below borrows from them heavily).\n",
    "\n",
    "Here we use the library to train a basic whale detector using an efficient net backbone (https://arxiv.org/abs/1905.11946) with ArcFace loss (https://arxiv.org/abs/1801.07698). This is a very straightforward example and there are many ways to improve. Here are some suggestions:\n",
    "\n",
    "- Change the train/validation split to better resemble the public LB.\n",
    "- Change the model trunk.\n",
    "- Pre-process the images by e.g. applying bounding boxes.\n",
    "- Experiment with the training proceedure.\n",
    "\n",
    "I will continue to develop this notebook over time and hopefully improve the results.\n",
    "\n",
    "All feedback appreciated."
   ]
  },
  {
   "cell_type": "markdown",
   "metadata": {
    "papermill": {
     "duration": 0.055881,
     "end_time": "2022-02-19T13:39:35.444130",
     "exception": false,
     "start_time": "2022-02-19T13:39:35.388249",
     "status": "completed"
    },
    "tags": []
   },
   "source": [
    "**Change Log**\n",
    "\n",
    "- Version 9: switched to 384x384 dataset, added training augmentation, and switched from Adam to SGD with cosine schedule.\n",
    "- Version 8 (LB: 0.245): fixed bug where same individual predicted multiple times for single image and increased the KNN search range.\n",
    "- Version 6 (LB: 0.229): switched to cropped YOLO5 input, switched to b3 model, reduced epochs, and updated logging.\n",
    "- Version 4 (LB: 0.190): initial notebook completed."
   ]
  },
  {
   "cell_type": "markdown",
   "metadata": {
    "papermill": {
     "duration": 0.068744,
     "end_time": "2022-02-19T13:39:35.598289",
     "exception": false,
     "start_time": "2022-02-19T13:39:35.529545",
     "status": "completed"
    },
    "tags": []
   },
   "source": [
    "## Dependencies"
   ]
  },
  {
   "cell_type": "code",
   "execution_count": 1,
   "metadata": {
    "_kg_hide-input": true,
    "_kg_hide-output": true,
    "execution": {
     "iopub.execute_input": "2022-02-19T13:39:35.719363Z",
     "iopub.status.busy": "2022-02-19T13:39:35.718563Z",
     "iopub.status.idle": "2022-02-19T13:39:58.245034Z",
     "shell.execute_reply": "2022-02-19T13:39:58.244418Z",
     "shell.execute_reply.started": "2022-02-19T13:33:26.424439Z"
    },
    "papermill": {
     "duration": 22.591048,
     "end_time": "2022-02-19T13:39:58.245199",
     "exception": false,
     "start_time": "2022-02-19T13:39:35.654151",
     "status": "completed"
    },
    "tags": []
   },
   "outputs": [
    {
     "name": "stdout",
     "output_type": "stream",
     "text": [
      "Collecting timm\r\n",
      "  Downloading timm-0.5.4-py3-none-any.whl (431 kB)\r\n",
      "     |████████████████████████████████| 431 kB 893 kB/s            \r\n",
      "\u001b[?25hRequirement already satisfied: torch>=1.4 in /opt/conda/lib/python3.7/site-packages (from timm) (1.9.1)\r\n",
      "Requirement already satisfied: torchvision in /opt/conda/lib/python3.7/site-packages (from timm) (0.10.1)\r\n",
      "Requirement already satisfied: typing-extensions in /opt/conda/lib/python3.7/site-packages (from torch>=1.4->timm) (4.0.1)\r\n",
      "Requirement already satisfied: pillow>=5.3.0 in /opt/conda/lib/python3.7/site-packages (from torchvision->timm) (8.2.0)\r\n",
      "Requirement already satisfied: numpy in /opt/conda/lib/python3.7/site-packages (from torchvision->timm) (1.20.3)\r\n",
      "Installing collected packages: timm\r\n",
      "Successfully installed timm-0.5.4\r\n",
      "\u001b[33mWARNING: Running pip as the 'root' user can result in broken permissions and conflicting behaviour with the system package manager. It is recommended to use a virtual environment instead: https://pip.pypa.io/warnings/venv\u001b[0m\r\n",
      "Collecting pytorch-metric-learning[with-hooks]\r\n",
      "  Downloading pytorch_metric_learning-1.1.2-py3-none-any.whl (106 kB)\r\n",
      "     |████████████████████████████████| 106 kB 907 kB/s            \r\n",
      "\u001b[?25hRequirement already satisfied: torchvision in /opt/conda/lib/python3.7/site-packages (from pytorch-metric-learning[with-hooks]) (0.10.1)\r\n",
      "Requirement already satisfied: numpy in /opt/conda/lib/python3.7/site-packages (from pytorch-metric-learning[with-hooks]) (1.20.3)\r\n",
      "Requirement already satisfied: torch>=1.6.0 in /opt/conda/lib/python3.7/site-packages (from pytorch-metric-learning[with-hooks]) (1.9.1)\r\n",
      "Requirement already satisfied: tqdm in /opt/conda/lib/python3.7/site-packages (from pytorch-metric-learning[with-hooks]) (4.62.3)\r\n",
      "Requirement already satisfied: scikit-learn in /opt/conda/lib/python3.7/site-packages (from pytorch-metric-learning[with-hooks]) (0.23.2)\r\n",
      "Requirement already satisfied: tensorboard in /opt/conda/lib/python3.7/site-packages (from pytorch-metric-learning[with-hooks]) (2.6.0)\r\n",
      "Collecting record-keeper>=0.9.31\r\n",
      "  Downloading record_keeper-0.9.31-py3-none-any.whl (8.2 kB)\r\n",
      "Collecting faiss-gpu>=1.6.3\r\n",
      "  Downloading faiss_gpu-1.7.2-cp37-cp37m-manylinux_2_17_x86_64.manylinux2014_x86_64.whl (85.5 MB)\r\n",
      "     |████████████████████████████████| 85.5 MB 144 kB/s             \r\n",
      "\u001b[?25hRequirement already satisfied: typing-extensions in /opt/conda/lib/python3.7/site-packages (from torch>=1.6.0->pytorch-metric-learning[with-hooks]) (4.0.1)\r\n",
      "Requirement already satisfied: threadpoolctl>=2.0.0 in /opt/conda/lib/python3.7/site-packages (from scikit-learn->pytorch-metric-learning[with-hooks]) (3.0.0)\r\n",
      "Requirement already satisfied: joblib>=0.11 in /opt/conda/lib/python3.7/site-packages (from scikit-learn->pytorch-metric-learning[with-hooks]) (1.1.0)\r\n",
      "Requirement already satisfied: scipy>=0.19.1 in /opt/conda/lib/python3.7/site-packages (from scikit-learn->pytorch-metric-learning[with-hooks]) (1.7.3)\r\n",
      "Requirement already satisfied: google-auth<2,>=1.6.3 in /opt/conda/lib/python3.7/site-packages (from tensorboard->pytorch-metric-learning[with-hooks]) (1.35.0)\r\n",
      "Requirement already satisfied: markdown>=2.6.8 in /opt/conda/lib/python3.7/site-packages (from tensorboard->pytorch-metric-learning[with-hooks]) (3.3.6)\r\n",
      "Requirement already satisfied: setuptools>=41.0.0 in /opt/conda/lib/python3.7/site-packages (from tensorboard->pytorch-metric-learning[with-hooks]) (59.5.0)\r\n",
      "Requirement already satisfied: tensorboard-plugin-wit>=1.6.0 in /opt/conda/lib/python3.7/site-packages (from tensorboard->pytorch-metric-learning[with-hooks]) (1.8.0)\r\n",
      "Requirement already satisfied: google-auth-oauthlib<0.5,>=0.4.1 in /opt/conda/lib/python3.7/site-packages (from tensorboard->pytorch-metric-learning[with-hooks]) (0.4.6)\r\n",
      "Requirement already satisfied: absl-py>=0.4 in /opt/conda/lib/python3.7/site-packages (from tensorboard->pytorch-metric-learning[with-hooks]) (0.15.0)\r\n",
      "Requirement already satisfied: requests<3,>=2.21.0 in /opt/conda/lib/python3.7/site-packages (from tensorboard->pytorch-metric-learning[with-hooks]) (2.26.0)\r\n",
      "Requirement already satisfied: werkzeug>=0.11.15 in /opt/conda/lib/python3.7/site-packages (from tensorboard->pytorch-metric-learning[with-hooks]) (2.0.2)\r\n",
      "Requirement already satisfied: wheel>=0.26 in /opt/conda/lib/python3.7/site-packages (from tensorboard->pytorch-metric-learning[with-hooks]) (0.37.0)\r\n",
      "Requirement already satisfied: protobuf>=3.6.0 in /opt/conda/lib/python3.7/site-packages (from tensorboard->pytorch-metric-learning[with-hooks]) (3.19.1)\r\n",
      "Requirement already satisfied: grpcio>=1.24.3 in /opt/conda/lib/python3.7/site-packages (from tensorboard->pytorch-metric-learning[with-hooks]) (1.43.0)\r\n",
      "Requirement already satisfied: tensorboard-data-server<0.7.0,>=0.6.0 in /opt/conda/lib/python3.7/site-packages (from tensorboard->pytorch-metric-learning[with-hooks]) (0.6.1)\r\n",
      "Requirement already satisfied: pillow>=5.3.0 in /opt/conda/lib/python3.7/site-packages (from torchvision->pytorch-metric-learning[with-hooks]) (8.2.0)\r\n",
      "Requirement already satisfied: six in /opt/conda/lib/python3.7/site-packages (from absl-py>=0.4->tensorboard->pytorch-metric-learning[with-hooks]) (1.16.0)\r\n",
      "Requirement already satisfied: rsa<5,>=3.1.4 in /opt/conda/lib/python3.7/site-packages (from google-auth<2,>=1.6.3->tensorboard->pytorch-metric-learning[with-hooks]) (4.8)\r\n",
      "Requirement already satisfied: pyasn1-modules>=0.2.1 in /opt/conda/lib/python3.7/site-packages (from google-auth<2,>=1.6.3->tensorboard->pytorch-metric-learning[with-hooks]) (0.2.7)\r\n",
      "Requirement already satisfied: cachetools<5.0,>=2.0.0 in /opt/conda/lib/python3.7/site-packages (from google-auth<2,>=1.6.3->tensorboard->pytorch-metric-learning[with-hooks]) (4.2.4)\r\n",
      "Requirement already satisfied: requests-oauthlib>=0.7.0 in /opt/conda/lib/python3.7/site-packages (from google-auth-oauthlib<0.5,>=0.4.1->tensorboard->pytorch-metric-learning[with-hooks]) (1.3.0)\r\n",
      "Requirement already satisfied: importlib-metadata>=4.4 in /opt/conda/lib/python3.7/site-packages (from markdown>=2.6.8->tensorboard->pytorch-metric-learning[with-hooks]) (4.10.1)\r\n",
      "Requirement already satisfied: certifi>=2017.4.17 in /opt/conda/lib/python3.7/site-packages (from requests<3,>=2.21.0->tensorboard->pytorch-metric-learning[with-hooks]) (2021.10.8)\r\n",
      "Requirement already satisfied: charset-normalizer~=2.0.0 in /opt/conda/lib/python3.7/site-packages (from requests<3,>=2.21.0->tensorboard->pytorch-metric-learning[with-hooks]) (2.0.9)\r\n",
      "Requirement already satisfied: idna<4,>=2.5 in /opt/conda/lib/python3.7/site-packages (from requests<3,>=2.21.0->tensorboard->pytorch-metric-learning[with-hooks]) (3.1)\r\n",
      "Requirement already satisfied: urllib3<1.27,>=1.21.1 in /opt/conda/lib/python3.7/site-packages (from requests<3,>=2.21.0->tensorboard->pytorch-metric-learning[with-hooks]) (1.26.7)\r\n",
      "Requirement already satisfied: zipp>=0.5 in /opt/conda/lib/python3.7/site-packages (from importlib-metadata>=4.4->markdown>=2.6.8->tensorboard->pytorch-metric-learning[with-hooks]) (3.6.0)\r\n",
      "Requirement already satisfied: pyasn1<0.5.0,>=0.4.6 in /opt/conda/lib/python3.7/site-packages (from pyasn1-modules>=0.2.1->google-auth<2,>=1.6.3->tensorboard->pytorch-metric-learning[with-hooks]) (0.4.8)\r\n",
      "Requirement already satisfied: oauthlib>=3.0.0 in /opt/conda/lib/python3.7/site-packages (from requests-oauthlib>=0.7.0->google-auth-oauthlib<0.5,>=0.4.1->tensorboard->pytorch-metric-learning[with-hooks]) (3.1.1)\r\n",
      "Installing collected packages: record-keeper, pytorch-metric-learning, faiss-gpu\r\n",
      "Successfully installed faiss-gpu-1.7.2 pytorch-metric-learning-1.1.2 record-keeper-0.9.31\r\n",
      "\u001b[33mWARNING: Running pip as the 'root' user can result in broken permissions and conflicting behaviour with the system package manager. It is recommended to use a virtual environment instead: https://pip.pypa.io/warnings/venv\u001b[0m\r\n"
     ]
    }
   ],
   "source": [
    "!pip install timm\n",
    "!pip install pytorch-metric-learning[with-hooks]"
   ]
  },
  {
   "cell_type": "markdown",
   "metadata": {
    "papermill": {
     "duration": 0.092322,
     "end_time": "2022-02-19T13:39:58.431714",
     "exception": false,
     "start_time": "2022-02-19T13:39:58.339392",
     "status": "completed"
    },
    "tags": []
   },
   "source": [
    "## Imports"
   ]
  },
  {
   "cell_type": "code",
   "execution_count": 2,
   "metadata": {
    "execution": {
     "iopub.execute_input": "2022-02-19T13:39:58.625412Z",
     "iopub.status.busy": "2022-02-19T13:39:58.624580Z",
     "iopub.status.idle": "2022-02-19T13:40:01.944367Z",
     "shell.execute_reply": "2022-02-19T13:40:01.943534Z",
     "shell.execute_reply.started": "2022-02-19T13:33:47.258424Z"
    },
    "papermill": {
     "duration": 3.420482,
     "end_time": "2022-02-19T13:40:01.944507",
     "exception": false,
     "start_time": "2022-02-19T13:39:58.524025",
     "status": "completed"
    },
    "tags": []
   },
   "outputs": [
    {
     "name": "stderr",
     "output_type": "stream",
     "text": [
      "INFO:root:VERSION 1.1.2\n"
     ]
    }
   ],
   "source": [
    "import os\n",
    "import glob\n",
    "import pandas as pd\n",
    "import numpy as np\n",
    "import logging\n",
    "import timm\n",
    "from tqdm.notebook import tqdm\n",
    "\n",
    "import torch\n",
    "import torch.nn as nn\n",
    "import torch.optim as optim\n",
    "\n",
    "from torch.utils.data import Dataset, DataLoader\n",
    "from torchvision.io import ImageReadMode, read_image\n",
    "from torchvision.transforms import Compose, Lambda, Normalize, AutoAugment, AutoAugmentPolicy\n",
    "\n",
    "import pytorch_metric_learning\n",
    "import pytorch_metric_learning.utils.logging_presets as LP\n",
    "from pytorch_metric_learning.utils import common_functions\n",
    "from pytorch_metric_learning import losses, miners, samplers, testers, trainers\n",
    "from pytorch_metric_learning.utils.accuracy_calculator import AccuracyCalculator\n",
    "from pytorch_metric_learning.utils.inference import InferenceModel\n",
    "\n",
    "for handler in logging.root.handlers[:]:\n",
    "    logging.root.removeHandler(handler)\n",
    "\n",
    "logging.getLogger().setLevel(logging.INFO)\n",
    "logging.info(\"VERSION %s\" % pytorch_metric_learning.__version__)"
   ]
  },
  {
   "cell_type": "code",
   "execution_count": 3,
   "metadata": {
    "execution": {
     "iopub.execute_input": "2022-02-19T13:40:02.191011Z",
     "iopub.status.busy": "2022-02-19T13:40:02.190388Z",
     "iopub.status.idle": "2022-02-19T13:40:02.195402Z",
     "shell.execute_reply": "2022-02-19T13:40:02.195871Z",
     "shell.execute_reply.started": "2022-02-19T13:33:49.114135Z"
    },
    "papermill": {
     "duration": 0.157707,
     "end_time": "2022-02-19T13:40:02.196077",
     "exception": false,
     "start_time": "2022-02-19T13:40:02.038370",
     "status": "completed"
    },
    "tags": []
   },
   "outputs": [
    {
     "data": {
      "text/plain": [
       "device(type='cuda', index=0)"
      ]
     },
     "execution_count": 3,
     "metadata": {},
     "output_type": "execute_result"
    }
   ],
   "source": [
    "device = torch.device(\"cuda:0\" if torch.cuda.is_available() else \"cpu\")\n",
    "device"
   ]
  },
  {
   "cell_type": "markdown",
   "metadata": {
    "papermill": {
     "duration": 0.16028,
     "end_time": "2022-02-19T13:40:02.471717",
     "exception": false,
     "start_time": "2022-02-19T13:40:02.311437",
     "status": "completed"
    },
    "tags": []
   },
   "source": [
    "## Parameters"
   ]
  },
  {
   "cell_type": "markdown",
   "metadata": {
    "papermill": {
     "duration": 0.147265,
     "end_time": "2022-02-19T13:40:02.767244",
     "exception": false,
     "start_time": "2022-02-19T13:40:02.619979",
     "status": "completed"
    },
    "tags": []
   },
   "source": [
    "There is no logic behind these, really. Go wild."
   ]
  },
  {
   "cell_type": "code",
   "execution_count": 4,
   "metadata": {
    "execution": {
     "iopub.execute_input": "2022-02-19T13:40:03.088676Z",
     "iopub.status.busy": "2022-02-19T13:40:03.087814Z",
     "iopub.status.idle": "2022-02-19T13:40:03.090030Z",
     "shell.execute_reply": "2022-02-19T13:40:03.089384Z",
     "shell.execute_reply.started": "2022-02-19T13:33:49.162915Z"
    },
    "papermill": {
     "duration": 0.165117,
     "end_time": "2022-02-19T13:40:03.090183",
     "exception": false,
     "start_time": "2022-02-19T13:40:02.925066",
     "status": "completed"
    },
    "tags": []
   },
   "outputs": [],
   "source": [
    "MODEL_NAME='tf_efficientnet_b3_ns'\n",
    "N_CLASSES=15587\n",
    "OUTPUT_SIZE = 1536\n",
    "EMBEDDING_SIZE = 512\n",
    "N_EPOCH=15\n",
    "BATCH_SIZE=24\n",
    "MODEL_LR = 1e-3\n",
    "PCT_START=0.3\n",
    "PATIENCE=5\n",
    "N_WORKER=2\n",
    "N_NEIGHBOURS = 1000"
   ]
  },
  {
   "cell_type": "markdown",
   "metadata": {
    "papermill": {
     "duration": 0.154829,
     "end_time": "2022-02-19T13:40:03.398804",
     "exception": false,
     "start_time": "2022-02-19T13:40:03.243975",
     "status": "completed"
    },
    "tags": []
   },
   "source": [
    "## Directories"
   ]
  },
  {
   "cell_type": "markdown",
   "metadata": {
    "papermill": {
     "duration": 0.093228,
     "end_time": "2022-02-19T13:40:03.600303",
     "exception": false,
     "start_time": "2022-02-19T13:40:03.507075",
     "status": "completed"
    },
    "tags": []
   },
   "source": [
    "We have now switched to using cropped images provided by Awsaf in the following notebook: https://www.kaggle.com/awsaf49/happywhale-cropped-dataset-yolov5. Please go give him an upvote if you like this notebook."
   ]
  },
  {
   "cell_type": "code",
   "execution_count": 5,
   "metadata": {
    "execution": {
     "iopub.execute_input": "2022-02-19T13:40:03.794819Z",
     "iopub.status.busy": "2022-02-19T13:40:03.793918Z",
     "iopub.status.idle": "2022-02-19T13:40:03.796237Z",
     "shell.execute_reply": "2022-02-19T13:40:03.795685Z",
     "shell.execute_reply.started": "2022-02-19T13:33:49.173253Z"
    },
    "papermill": {
     "duration": 0.102915,
     "end_time": "2022-02-19T13:40:03.796352",
     "exception": false,
     "start_time": "2022-02-19T13:40:03.693437",
     "status": "completed"
    },
    "tags": []
   },
   "outputs": [],
   "source": [
    "TRAIN_DIR = '../input/jpeg-happywhale-384x384/train_images-384-384/train_images-384-384'\n",
    "TEST_DIR = '../input/jpeg-happywhale-384x384/test_images-384-384/test_images-384-384'\n",
    "LOG_DIR = \"../logs/{}\".format(MODEL_NAME)\n",
    "MODEL_DIR = \"../models/{}\".format(MODEL_NAME)"
   ]
  },
  {
   "cell_type": "markdown",
   "metadata": {
    "papermill": {
     "duration": 0.093606,
     "end_time": "2022-02-19T13:40:03.986441",
     "exception": false,
     "start_time": "2022-02-19T13:40:03.892835",
     "status": "completed"
    },
    "tags": []
   },
   "source": [
    "## Dataset"
   ]
  },
  {
   "cell_type": "markdown",
   "metadata": {
    "papermill": {
     "duration": 0.135366,
     "end_time": "2022-02-19T13:40:04.260796",
     "exception": false,
     "start_time": "2022-02-19T13:40:04.125430",
     "status": "completed"
    },
    "tags": []
   },
   "source": [
    "Create a basic dataset for loading images. \n",
    "\n",
    "Since we're planning to use pre-trained imagenet weights we need to normalize appropriately."
   ]
  },
  {
   "cell_type": "code",
   "execution_count": 6,
   "metadata": {
    "execution": {
     "iopub.execute_input": "2022-02-19T13:40:04.457118Z",
     "iopub.status.busy": "2022-02-19T13:40:04.456514Z",
     "iopub.status.idle": "2022-02-19T13:40:04.459678Z",
     "shell.execute_reply": "2022-02-19T13:40:04.459256Z",
     "shell.execute_reply.started": "2022-02-19T13:33:49.188969Z"
    },
    "papermill": {
     "duration": 0.105007,
     "end_time": "2022-02-19T13:40:04.459817",
     "exception": false,
     "start_time": "2022-02-19T13:40:04.354810",
     "status": "completed"
    },
    "tags": []
   },
   "outputs": [],
   "source": [
    "\n",
    "class HappyWhaleDataset(Dataset):\n",
    "    def __init__(\n",
    "        self,\n",
    "        df: pd.DataFrame,\n",
    "        image_dir: str,\n",
    "        return_labels=True,\n",
    "    ):\n",
    "        self.df = df\n",
    "        self.images = self.df[\"image\"]\n",
    "        self.image_dir = image_dir\n",
    "        self.image_transform = Compose(\n",
    "            [\n",
    "                AutoAugment(AutoAugmentPolicy.IMAGENET),\n",
    "                Lambda(lambda x: x / 255),\n",
    "                Normalize(mean=[0.485, 0.456, 0.406], std=[0.229, 0.224, 0.225]),\n",
    "                \n",
    "            ]\n",
    "        )\n",
    "        self.return_labels = return_labels\n",
    "\n",
    "    def __len__(self):\n",
    "        return len(self.images)\n",
    "\n",
    "    def __getitem__(self, idx):\n",
    "        \n",
    "        image_path = os.path.join(self.image_dir, self.images.iloc[idx])\n",
    "        image = read_image(path=image_path)\n",
    "        image = self.image_transform(image)\n",
    "        \n",
    "        if self.return_labels:\n",
    "            label = self.df['label'].iloc[idx]\n",
    "            return image, label\n",
    "        else:\n",
    "            return image\n"
   ]
  },
  {
   "cell_type": "markdown",
   "metadata": {
    "papermill": {
     "duration": 0.09165,
     "end_time": "2022-02-19T13:40:04.643912",
     "exception": false,
     "start_time": "2022-02-19T13:40:04.552262",
     "status": "completed"
    },
    "tags": []
   },
   "source": [
    "# Data Split"
   ]
  },
  {
   "cell_type": "markdown",
   "metadata": {
    "papermill": {
     "duration": 0.092779,
     "end_time": "2022-02-19T13:40:04.829674",
     "exception": false,
     "start_time": "2022-02-19T13:40:04.736895",
     "status": "completed"
    },
    "tags": []
   },
   "source": [
    "Load in the csv:"
   ]
  },
  {
   "cell_type": "code",
   "execution_count": 7,
   "metadata": {
    "execution": {
     "iopub.execute_input": "2022-02-19T13:40:05.020903Z",
     "iopub.status.busy": "2022-02-19T13:40:05.020233Z",
     "iopub.status.idle": "2022-02-19T13:40:05.121065Z",
     "shell.execute_reply": "2022-02-19T13:40:05.120562Z",
     "shell.execute_reply.started": "2022-02-19T13:33:49.205045Z"
    },
    "papermill": {
     "duration": 0.198566,
     "end_time": "2022-02-19T13:40:05.121198",
     "exception": false,
     "start_time": "2022-02-19T13:40:04.922632",
     "status": "completed"
    },
    "tags": []
   },
   "outputs": [
    {
     "data": {
      "text/html": [
       "<div>\n",
       "<style scoped>\n",
       "    .dataframe tbody tr th:only-of-type {\n",
       "        vertical-align: middle;\n",
       "    }\n",
       "\n",
       "    .dataframe tbody tr th {\n",
       "        vertical-align: top;\n",
       "    }\n",
       "\n",
       "    .dataframe thead th {\n",
       "        text-align: right;\n",
       "    }\n",
       "</style>\n",
       "<table border=\"1\" class=\"dataframe\">\n",
       "  <thead>\n",
       "    <tr style=\"text-align: right;\">\n",
       "      <th></th>\n",
       "      <th>image</th>\n",
       "      <th>species</th>\n",
       "      <th>individual_id</th>\n",
       "    </tr>\n",
       "  </thead>\n",
       "  <tbody>\n",
       "    <tr>\n",
       "      <th>0</th>\n",
       "      <td>00021adfb725ed.jpg</td>\n",
       "      <td>melon_headed_whale</td>\n",
       "      <td>cadddb1636b9</td>\n",
       "    </tr>\n",
       "    <tr>\n",
       "      <th>1</th>\n",
       "      <td>000562241d384d.jpg</td>\n",
       "      <td>humpback_whale</td>\n",
       "      <td>1a71fbb72250</td>\n",
       "    </tr>\n",
       "    <tr>\n",
       "      <th>2</th>\n",
       "      <td>0007c33415ce37.jpg</td>\n",
       "      <td>false_killer_whale</td>\n",
       "      <td>60008f293a2b</td>\n",
       "    </tr>\n",
       "    <tr>\n",
       "      <th>3</th>\n",
       "      <td>0007d9bca26a99.jpg</td>\n",
       "      <td>bottlenose_dolphin</td>\n",
       "      <td>4b00fe572063</td>\n",
       "    </tr>\n",
       "    <tr>\n",
       "      <th>4</th>\n",
       "      <td>00087baf5cef7a.jpg</td>\n",
       "      <td>humpback_whale</td>\n",
       "      <td>8e5253662392</td>\n",
       "    </tr>\n",
       "  </tbody>\n",
       "</table>\n",
       "</div>"
      ],
      "text/plain": [
       "                image             species individual_id\n",
       "0  00021adfb725ed.jpg  melon_headed_whale  cadddb1636b9\n",
       "1  000562241d384d.jpg      humpback_whale  1a71fbb72250\n",
       "2  0007c33415ce37.jpg  false_killer_whale  60008f293a2b\n",
       "3  0007d9bca26a99.jpg  bottlenose_dolphin  4b00fe572063\n",
       "4  00087baf5cef7a.jpg      humpback_whale  8e5253662392"
      ]
     },
     "execution_count": 7,
     "metadata": {},
     "output_type": "execute_result"
    }
   ],
   "source": [
    "df = pd.read_csv('../input/happy-whale-and-dolphin/train.csv')\n",
    "df.head()"
   ]
  },
  {
   "cell_type": "markdown",
   "metadata": {
    "papermill": {
     "duration": 0.093075,
     "end_time": "2022-02-19T13:40:05.307363",
     "exception": false,
     "start_time": "2022-02-19T13:40:05.214288",
     "status": "completed"
    },
    "tags": []
   },
   "source": [
    "Add a label for the classes:"
   ]
  },
  {
   "cell_type": "code",
   "execution_count": 8,
   "metadata": {
    "execution": {
     "iopub.execute_input": "2022-02-19T13:40:05.509360Z",
     "iopub.status.busy": "2022-02-19T13:40:05.508566Z",
     "iopub.status.idle": "2022-02-19T13:40:05.545428Z",
     "shell.execute_reply": "2022-02-19T13:40:05.545862Z",
     "shell.execute_reply.started": "2022-02-19T13:33:49.287570Z"
    },
    "papermill": {
     "duration": 0.144864,
     "end_time": "2022-02-19T13:40:05.546021",
     "exception": false,
     "start_time": "2022-02-19T13:40:05.401157",
     "status": "completed"
    },
    "tags": []
   },
   "outputs": [
    {
     "data": {
      "text/plain": [
       "count    51033.000000\n",
       "mean      7651.356240\n",
       "std       4465.552697\n",
       "min          0.000000\n",
       "25%       3748.000000\n",
       "50%       7605.000000\n",
       "75%      11443.000000\n",
       "max      15586.000000\n",
       "Name: label, dtype: float64"
      ]
     },
     "execution_count": 8,
     "metadata": {},
     "output_type": "execute_result"
    }
   ],
   "source": [
    "df['label'] = df.groupby('individual_id').ngroup()\n",
    "df['label'].describe()"
   ]
  },
  {
   "cell_type": "markdown",
   "metadata": {
    "papermill": {
     "duration": 0.093471,
     "end_time": "2022-02-19T13:40:05.732680",
     "exception": false,
     "start_time": "2022-02-19T13:40:05.639209",
     "status": "completed"
    },
    "tags": []
   },
   "source": [
    "Split into training and validation:"
   ]
  },
  {
   "cell_type": "code",
   "execution_count": 9,
   "metadata": {
    "execution": {
     "iopub.execute_input": "2022-02-19T13:40:05.926192Z",
     "iopub.status.busy": "2022-02-19T13:40:05.924539Z",
     "iopub.status.idle": "2022-02-19T13:40:05.944791Z",
     "shell.execute_reply": "2022-02-19T13:40:05.945243Z",
     "shell.execute_reply.started": "2022-02-19T13:33:49.335780Z"
    },
    "papermill": {
     "duration": 0.118717,
     "end_time": "2022-02-19T13:40:05.945425",
     "exception": false,
     "start_time": "2022-02-19T13:40:05.826708",
     "status": "completed"
    },
    "tags": []
   },
   "outputs": [
    {
     "name": "stdout",
     "output_type": "stream",
     "text": [
      "(45930, 4)\n",
      "(5103, 4)\n"
     ]
    }
   ],
   "source": [
    "valid_proportion = 0.1\n",
    "\n",
    "valid_df = df.sample(frac=valid_proportion, replace=False, random_state=1).copy()\n",
    "train_df = df[~df['image'].isin(valid_df['image'])].copy()\n",
    "\n",
    "print(train_df.shape)\n",
    "print(valid_df.shape)"
   ]
  },
  {
   "cell_type": "markdown",
   "metadata": {
    "papermill": {
     "duration": 0.09354,
     "end_time": "2022-02-19T13:40:06.133138",
     "exception": false,
     "start_time": "2022-02-19T13:40:06.039598",
     "status": "completed"
    },
    "tags": []
   },
   "source": [
    "Reset index on both since we want to use it for KNN lookups later:"
   ]
  },
  {
   "cell_type": "code",
   "execution_count": 10,
   "metadata": {
    "execution": {
     "iopub.execute_input": "2022-02-19T13:40:06.325888Z",
     "iopub.status.busy": "2022-02-19T13:40:06.325115Z",
     "iopub.status.idle": "2022-02-19T13:40:06.327187Z",
     "shell.execute_reply": "2022-02-19T13:40:06.327556Z",
     "shell.execute_reply.started": "2022-02-19T13:33:49.363670Z"
    },
    "papermill": {
     "duration": 0.100927,
     "end_time": "2022-02-19T13:40:06.327723",
     "exception": false,
     "start_time": "2022-02-19T13:40:06.226796",
     "status": "completed"
    },
    "tags": []
   },
   "outputs": [],
   "source": [
    "train_df.reset_index(drop=True, inplace=True)\n",
    "valid_df.reset_index(drop=True, inplace=True)"
   ]
  },
  {
   "cell_type": "markdown",
   "metadata": {
    "papermill": {
     "duration": 0.093063,
     "end_time": "2022-02-19T13:40:06.515274",
     "exception": false,
     "start_time": "2022-02-19T13:40:06.422211",
     "status": "completed"
    },
    "tags": []
   },
   "source": [
    "Create our dataset objects:"
   ]
  },
  {
   "cell_type": "code",
   "execution_count": 11,
   "metadata": {
    "execution": {
     "iopub.execute_input": "2022-02-19T13:40:06.708974Z",
     "iopub.status.busy": "2022-02-19T13:40:06.708349Z",
     "iopub.status.idle": "2022-02-19T13:40:06.725802Z",
     "shell.execute_reply": "2022-02-19T13:40:06.726244Z",
     "shell.execute_reply.started": "2022-02-19T13:33:49.371926Z"
    },
    "papermill": {
     "duration": 0.117944,
     "end_time": "2022-02-19T13:40:06.726392",
     "exception": false,
     "start_time": "2022-02-19T13:40:06.608448",
     "status": "completed"
    },
    "tags": []
   },
   "outputs": [
    {
     "data": {
      "text/plain": [
       "45930"
      ]
     },
     "execution_count": 11,
     "metadata": {},
     "output_type": "execute_result"
    }
   ],
   "source": [
    "train_dataset = HappyWhaleDataset(df=train_df, image_dir=TRAIN_DIR, return_labels=True)\n",
    "len(train_dataset)"
   ]
  },
  {
   "cell_type": "code",
   "execution_count": 12,
   "metadata": {
    "execution": {
     "iopub.execute_input": "2022-02-19T13:40:06.921133Z",
     "iopub.status.busy": "2022-02-19T13:40:06.920292Z",
     "iopub.status.idle": "2022-02-19T13:40:06.924944Z",
     "shell.execute_reply": "2022-02-19T13:40:06.924507Z",
     "shell.execute_reply.started": "2022-02-19T13:33:49.388033Z"
    },
    "papermill": {
     "duration": 0.10401,
     "end_time": "2022-02-19T13:40:06.925077",
     "exception": false,
     "start_time": "2022-02-19T13:40:06.821067",
     "status": "completed"
    },
    "tags": []
   },
   "outputs": [
    {
     "data": {
      "text/plain": [
       "5103"
      ]
     },
     "execution_count": 12,
     "metadata": {},
     "output_type": "execute_result"
    }
   ],
   "source": [
    "valid_dataset = HappyWhaleDataset(df=valid_df, image_dir=TRAIN_DIR, return_labels=True)\n",
    "len(valid_dataset)"
   ]
  },
  {
   "cell_type": "code",
   "execution_count": 13,
   "metadata": {
    "execution": {
     "iopub.execute_input": "2022-02-19T13:40:07.119002Z",
     "iopub.status.busy": "2022-02-19T13:40:07.118148Z",
     "iopub.status.idle": "2022-02-19T13:40:07.120706Z",
     "shell.execute_reply": "2022-02-19T13:40:07.120277Z",
     "shell.execute_reply.started": "2022-02-19T13:33:49.402793Z"
    },
    "papermill": {
     "duration": 0.101781,
     "end_time": "2022-02-19T13:40:07.120845",
     "exception": false,
     "start_time": "2022-02-19T13:40:07.019064",
     "status": "completed"
    },
    "tags": []
   },
   "outputs": [],
   "source": [
    "dataset_dict = {\"train\": train_dataset, \"val\": valid_dataset}"
   ]
  },
  {
   "cell_type": "markdown",
   "metadata": {
    "papermill": {
     "duration": 0.094801,
     "end_time": "2022-02-19T13:40:07.309847",
     "exception": false,
     "start_time": "2022-02-19T13:40:07.215046",
     "status": "completed"
    },
    "tags": []
   },
   "source": [
    "## Model Setup"
   ]
  },
  {
   "cell_type": "markdown",
   "metadata": {
    "papermill": {
     "duration": 0.094998,
     "end_time": "2022-02-19T13:40:07.499288",
     "exception": false,
     "start_time": "2022-02-19T13:40:07.404290",
     "status": "completed"
    },
    "tags": []
   },
   "source": [
    "We need to specify three components to build our model:\n",
    "\n",
    "- Trunk\n",
    "- Embedder\n",
    "- Loss\n",
    "\n",
    "Setup the trunk using a pre-trained model from timm:"
   ]
  },
  {
   "cell_type": "code",
   "execution_count": 14,
   "metadata": {
    "execution": {
     "iopub.execute_input": "2022-02-19T13:40:07.700409Z",
     "iopub.status.busy": "2022-02-19T13:40:07.699763Z",
     "iopub.status.idle": "2022-02-19T13:40:14.171992Z",
     "shell.execute_reply": "2022-02-19T13:40:14.171481Z",
     "shell.execute_reply.started": "2022-02-19T13:33:49.412079Z"
    },
    "papermill": {
     "duration": 6.579451,
     "end_time": "2022-02-19T13:40:14.172133",
     "exception": false,
     "start_time": "2022-02-19T13:40:07.592682",
     "status": "completed"
    },
    "tags": []
   },
   "outputs": [
    {
     "name": "stderr",
     "output_type": "stream",
     "text": [
      "INFO:timm.models.helpers:Loading pretrained weights from url (https://github.com/rwightman/pytorch-image-models/releases/download/v0.1-weights/tf_efficientnet_b3_ns-9d44bf68.pth)\n",
      "Downloading: \"https://github.com/rwightman/pytorch-image-models/releases/download/v0.1-weights/tf_efficientnet_b3_ns-9d44bf68.pth\" to /root/.cache/torch/hub/checkpoints/tf_efficientnet_b3_ns-9d44bf68.pth\n"
     ]
    }
   ],
   "source": [
    "trunk = timm.create_model(MODEL_NAME, pretrained=True)\n",
    "trunk.classifier = common_functions.Identity()\n",
    "trunk = trunk.to(device)\n",
    "trunk_optimizer = optim.SGD(trunk.parameters(), lr=MODEL_LR, momentum=0.9)\n",
    "trunk_schedule = optim.lr_scheduler.OneCycleLR(\n",
    "    trunk_optimizer,\n",
    "    max_lr=MODEL_LR,\n",
    "    total_steps = N_EPOCH * int(len(train_dataset)/BATCH_SIZE),\n",
    "    pct_start = PCT_START\n",
    ")"
   ]
  },
  {
   "cell_type": "markdown",
   "metadata": {
    "papermill": {
     "duration": 0.095618,
     "end_time": "2022-02-19T13:40:14.363276",
     "exception": false,
     "start_time": "2022-02-19T13:40:14.267658",
     "status": "completed"
    },
    "tags": []
   },
   "source": [
    "Add our embedder. This is just a linear layer that will create the embeddings for KNN:"
   ]
  },
  {
   "cell_type": "code",
   "execution_count": 15,
   "metadata": {
    "execution": {
     "iopub.execute_input": "2022-02-19T13:40:14.560659Z",
     "iopub.status.busy": "2022-02-19T13:40:14.559917Z",
     "iopub.status.idle": "2022-02-19T13:40:14.571685Z",
     "shell.execute_reply": "2022-02-19T13:40:14.571270Z",
     "shell.execute_reply.started": "2022-02-19T13:33:52.121957Z"
    },
    "papermill": {
     "duration": 0.112224,
     "end_time": "2022-02-19T13:40:14.571837",
     "exception": false,
     "start_time": "2022-02-19T13:40:14.459613",
     "status": "completed"
    },
    "tags": []
   },
   "outputs": [],
   "source": [
    "embedder = nn.Linear(OUTPUT_SIZE, EMBEDDING_SIZE).to(device)\n",
    "embedder_optimizer = optim.SGD(trunk.parameters(), lr=MODEL_LR, momentum=0.9)\n",
    "embedder_schedule = optim.lr_scheduler.OneCycleLR(\n",
    "    embedder_optimizer,\n",
    "    max_lr=MODEL_LR,\n",
    "    total_steps = N_EPOCH * int(len(train_dataset)/BATCH_SIZE),\n",
    "    pct_start = PCT_START\n",
    ")"
   ]
  },
  {
   "cell_type": "markdown",
   "metadata": {
    "papermill": {
     "duration": 0.095133,
     "end_time": "2022-02-19T13:40:14.761996",
     "exception": false,
     "start_time": "2022-02-19T13:40:14.666863",
     "status": "completed"
    },
    "tags": []
   },
   "source": [
    "And add the loss function:"
   ]
  },
  {
   "cell_type": "code",
   "execution_count": 16,
   "metadata": {
    "execution": {
     "iopub.execute_input": "2022-02-19T13:40:14.959880Z",
     "iopub.status.busy": "2022-02-19T13:40:14.959111Z",
     "iopub.status.idle": "2022-02-19T13:40:15.043155Z",
     "shell.execute_reply": "2022-02-19T13:40:15.042620Z",
     "shell.execute_reply.started": "2022-02-19T13:33:52.152359Z"
    },
    "papermill": {
     "duration": 0.185644,
     "end_time": "2022-02-19T13:40:15.043282",
     "exception": false,
     "start_time": "2022-02-19T13:40:14.857638",
     "status": "completed"
    },
    "tags": []
   },
   "outputs": [],
   "source": [
    "loss_func = losses.ArcFaceLoss(num_classes=N_CLASSES, embedding_size=EMBEDDING_SIZE).to(device)\n",
    "loss_optimizer = optim.SGD(trunk.parameters(), lr=MODEL_LR, momentum=0.9)\n",
    "loss_schedule = optim.lr_scheduler.OneCycleLR(\n",
    "    loss_optimizer,\n",
    "    max_lr=MODEL_LR,\n",
    "    total_steps = N_EPOCH * int(len(train_dataset)/BATCH_SIZE),\n",
    "    pct_start = PCT_START\n",
    ")"
   ]
  },
  {
   "cell_type": "markdown",
   "metadata": {
    "papermill": {
     "duration": 0.094949,
     "end_time": "2022-02-19T13:40:15.243084",
     "exception": false,
     "start_time": "2022-02-19T13:40:15.148135",
     "status": "completed"
    },
    "tags": []
   },
   "source": [
    "Setup some hooks for validation, logging and model saving at the end of the epoch:"
   ]
  },
  {
   "cell_type": "code",
   "execution_count": 17,
   "metadata": {
    "execution": {
     "iopub.execute_input": "2022-02-19T13:40:15.440945Z",
     "iopub.status.busy": "2022-02-19T13:40:15.440067Z",
     "iopub.status.idle": "2022-02-19T13:40:15.651767Z",
     "shell.execute_reply": "2022-02-19T13:40:15.651275Z",
     "shell.execute_reply.started": "2022-02-19T13:33:52.310508Z"
    },
    "papermill": {
     "duration": 0.313513,
     "end_time": "2022-02-19T13:40:15.651911",
     "exception": false,
     "start_time": "2022-02-19T13:40:15.338398",
     "status": "completed"
    },
    "tags": []
   },
   "outputs": [],
   "source": [
    "record_keeper, _, _ = LP.get_record_keeper(LOG_DIR)\n",
    "hooks = LP.get_hook_container(record_keeper, primary_metric='mean_average_precision')"
   ]
  },
  {
   "cell_type": "code",
   "execution_count": 18,
   "metadata": {
    "execution": {
     "iopub.execute_input": "2022-02-19T13:40:15.848316Z",
     "iopub.status.busy": "2022-02-19T13:40:15.847452Z",
     "iopub.status.idle": "2022-02-19T13:40:15.850165Z",
     "shell.execute_reply": "2022-02-19T13:40:15.849692Z",
     "shell.execute_reply.started": "2022-02-19T13:33:52.469422Z"
    },
    "papermill": {
     "duration": 0.103083,
     "end_time": "2022-02-19T13:40:15.850280",
     "exception": false,
     "start_time": "2022-02-19T13:40:15.747197",
     "status": "completed"
    },
    "tags": []
   },
   "outputs": [],
   "source": [
    "tester = testers.GlobalEmbeddingSpaceTester(\n",
    "    end_of_testing_hook=hooks.end_of_testing_hook,\n",
    "    accuracy_calculator=AccuracyCalculator(\n",
    "        include=['mean_average_precision'],\n",
    "        device=torch.device(\"cpu\"),\n",
    "        k=5),\n",
    "    dataloader_num_workers=N_WORKER,\n",
    "    batch_size=BATCH_SIZE\n",
    ")"
   ]
  },
  {
   "cell_type": "markdown",
   "metadata": {
    "papermill": {
     "duration": 0.095779,
     "end_time": "2022-02-19T13:40:16.040869",
     "exception": false,
     "start_time": "2022-02-19T13:40:15.945090",
     "status": "completed"
    },
    "tags": []
   },
   "source": [
    "By adding the tester as an end of epoch hook in this way, it will automatically use the embedder model to generate train and validation embeddings, then for each validation embedding find the k nearest neighbours and evaluate MAP@5. This won't take into account the `new_individual` problem, but it should give us an idea of model performance on the task regardless."
   ]
  },
  {
   "cell_type": "code",
   "execution_count": 19,
   "metadata": {
    "execution": {
     "iopub.execute_input": "2022-02-19T13:40:16.237340Z",
     "iopub.status.busy": "2022-02-19T13:40:16.236622Z",
     "iopub.status.idle": "2022-02-19T13:40:16.239952Z",
     "shell.execute_reply": "2022-02-19T13:40:16.239507Z",
     "shell.execute_reply.started": "2022-02-19T13:33:52.482913Z"
    },
    "papermill": {
     "duration": 0.103973,
     "end_time": "2022-02-19T13:40:16.240083",
     "exception": false,
     "start_time": "2022-02-19T13:40:16.136110",
     "status": "completed"
    },
    "tags": []
   },
   "outputs": [],
   "source": [
    "end_of_epoch_hook = hooks.end_of_epoch_hook(\n",
    "    tester, \n",
    "    dataset_dict,\n",
    "    MODEL_DIR,\n",
    "    test_interval=1, \n",
    "    patience=PATIENCE, \n",
    "    splits_to_eval = [('val', ['train'])]\n",
    ")"
   ]
  },
  {
   "cell_type": "markdown",
   "metadata": {
    "papermill": {
     "duration": 0.097807,
     "end_time": "2022-02-19T13:40:16.433398",
     "exception": false,
     "start_time": "2022-02-19T13:40:16.335591",
     "status": "completed"
    },
    "tags": []
   },
   "source": [
    "Finally, setup our trainer object:"
   ]
  },
  {
   "cell_type": "code",
   "execution_count": 20,
   "metadata": {
    "execution": {
     "iopub.execute_input": "2022-02-19T13:40:16.631794Z",
     "iopub.status.busy": "2022-02-19T13:40:16.630911Z",
     "iopub.status.idle": "2022-02-19T13:40:16.632698Z",
     "shell.execute_reply": "2022-02-19T13:40:16.633121Z",
     "shell.execute_reply.started": "2022-02-19T13:33:52.493112Z"
    },
    "papermill": {
     "duration": 0.104445,
     "end_time": "2022-02-19T13:40:16.633259",
     "exception": false,
     "start_time": "2022-02-19T13:40:16.528814",
     "status": "completed"
    },
    "tags": []
   },
   "outputs": [],
   "source": [
    "trainer = trainers.MetricLossOnly(\n",
    "    models={\"trunk\": trunk, \"embedder\": embedder},\n",
    "    optimizers={\"trunk_optimizer\": trunk_optimizer, \"embedder_optimizer\": embedder_optimizer, \"metric_loss_optimizer\": loss_optimizer},\n",
    "    batch_size=BATCH_SIZE,\n",
    "    loss_funcs={\"metric_loss\": loss_func},\n",
    "    mining_funcs={},\n",
    "    dataset=train_dataset,\n",
    "    dataloader_num_workers=N_WORKER,\n",
    "    end_of_epoch_hook=end_of_epoch_hook,\n",
    "    lr_schedulers={\n",
    "        'trunk_scheduler_by_iteration': trunk_schedule,\n",
    "        'embedder_scheduler_by_iteration': embedder_schedule,\n",
    "        'metric_loss_scheduler_by_iteration': loss_schedule,\n",
    "    }\n",
    ")"
   ]
  },
  {
   "cell_type": "markdown",
   "metadata": {
    "papermill": {
     "duration": 0.095435,
     "end_time": "2022-02-19T13:40:16.824260",
     "exception": false,
     "start_time": "2022-02-19T13:40:16.728825",
     "status": "completed"
    },
    "tags": []
   },
   "source": [
    "## Model Training"
   ]
  },
  {
   "cell_type": "markdown",
   "metadata": {
    "papermill": {
     "duration": 0.094993,
     "end_time": "2022-02-19T13:40:17.015001",
     "exception": false,
     "start_time": "2022-02-19T13:40:16.920008",
     "status": "completed"
    },
    "tags": []
   },
   "source": [
    "Train the model:"
   ]
  },
  {
   "cell_type": "code",
   "execution_count": 21,
   "metadata": {
    "execution": {
     "iopub.execute_input": "2022-02-19T13:40:17.210301Z",
     "iopub.status.busy": "2022-02-19T13:40:17.209431Z",
     "iopub.status.idle": "2022-02-19T20:20:56.015531Z",
     "shell.execute_reply": "2022-02-19T20:20:56.014989Z"
    },
    "papermill": {
     "duration": 24038.905663,
     "end_time": "2022-02-19T20:20:56.015660",
     "exception": false,
     "start_time": "2022-02-19T13:40:17.109997",
     "status": "completed"
    },
    "tags": []
   },
   "outputs": [
    {
     "name": "stderr",
     "output_type": "stream",
     "text": [
      "INFO:PML:Initializing dataloader\n",
      "INFO:PML:Initializing dataloader iterator\n",
      "INFO:PML:Done creating dataloader iterator\n",
      "INFO:PML:TRAINING EPOCH 1\n",
      "total_loss=41.89675: 100%|██████████| 1913/1913 [17:28<00:00,  1.82it/s]\n",
      "INFO:PML:Evaluating epoch 1\n",
      "INFO:PML:Getting embeddings for the val split\n",
      "100%|██████████| 213/213 [01:06<00:00,  3.23it/s]\n",
      "INFO:PML:Getting embeddings for the train split\n",
      "100%|██████████| 1914/1914 [08:28<00:00,  3.76it/s]\n",
      "INFO:PML:Computing accuracy for the val split w.r.t ['train']\n",
      "INFO:PML:running k-nn with k=5\n",
      "INFO:PML:embedding dimensionality is 512\n",
      "INFO:PML:New best accuracy! 0.06186890128847916\n",
      "INFO:PML:TRAINING EPOCH 2\n",
      "total_loss=40.11728: 100%|██████████| 1913/1913 [17:07<00:00,  1.86it/s]\n",
      "INFO:PML:Evaluating epoch 2\n",
      "INFO:PML:Getting embeddings for the val split\n",
      "100%|██████████| 213/213 [00:57<00:00,  3.70it/s]\n",
      "INFO:PML:Getting embeddings for the train split\n",
      "100%|██████████| 1914/1914 [08:27<00:00,  3.77it/s]\n",
      "INFO:PML:Computing accuracy for the val split w.r.t ['train']\n",
      "INFO:PML:running k-nn with k=5\n",
      "INFO:PML:embedding dimensionality is 512\n",
      "INFO:PML:New best accuracy! 0.08083690495444497\n",
      "INFO:PML:TRAINING EPOCH 3\n",
      "total_loss=40.22955: 100%|██████████| 1913/1913 [17:09<00:00,  1.86it/s]\n",
      "INFO:PML:Evaluating epoch 3\n",
      "INFO:PML:Getting embeddings for the val split\n",
      "100%|██████████| 213/213 [00:57<00:00,  3.71it/s]\n",
      "INFO:PML:Getting embeddings for the train split\n",
      "100%|██████████| 1914/1914 [08:22<00:00,  3.81it/s]\n",
      "INFO:PML:Computing accuracy for the val split w.r.t ['train']\n",
      "INFO:PML:running k-nn with k=5\n",
      "INFO:PML:embedding dimensionality is 512\n",
      "INFO:PML:New best accuracy! 0.10557375060650169\n",
      "INFO:PML:TRAINING EPOCH 4\n",
      "total_loss=39.59091: 100%|██████████| 1913/1913 [17:04<00:00,  1.87it/s]\n",
      "INFO:PML:Evaluating epoch 4\n",
      "INFO:PML:Getting embeddings for the val split\n",
      "100%|██████████| 213/213 [00:55<00:00,  3.85it/s]\n",
      "INFO:PML:Getting embeddings for the train split\n",
      "100%|██████████| 1914/1914 [08:30<00:00,  3.75it/s]\n",
      "INFO:PML:Computing accuracy for the val split w.r.t ['train']\n",
      "INFO:PML:running k-nn with k=5\n",
      "INFO:PML:embedding dimensionality is 512\n",
      "INFO:PML:New best accuracy! 0.14451082268585907\n",
      "INFO:PML:TRAINING EPOCH 5\n",
      "total_loss=40.58239: 100%|██████████| 1913/1913 [17:05<00:00,  1.87it/s]\n",
      "INFO:PML:Evaluating epoch 5\n",
      "INFO:PML:Getting embeddings for the val split\n",
      "100%|██████████| 213/213 [00:59<00:00,  3.58it/s]\n",
      "INFO:PML:Getting embeddings for the train split\n",
      "100%|██████████| 1914/1914 [08:40<00:00,  3.68it/s]\n",
      "INFO:PML:Computing accuracy for the val split w.r.t ['train']\n",
      "INFO:PML:running k-nn with k=5\n",
      "INFO:PML:embedding dimensionality is 512\n",
      "INFO:PML:New best accuracy! 0.16875741279853362\n",
      "INFO:PML:TRAINING EPOCH 6\n",
      "total_loss=37.72030: 100%|██████████| 1913/1913 [17:10<00:00,  1.86it/s]\n",
      "INFO:PML:Evaluating epoch 6\n",
      "INFO:PML:Getting embeddings for the val split\n",
      "100%|██████████| 213/213 [01:03<00:00,  3.35it/s]\n",
      "INFO:PML:Getting embeddings for the train split\n",
      "100%|██████████| 1914/1914 [08:36<00:00,  3.71it/s]\n",
      "INFO:PML:Computing accuracy for the val split w.r.t ['train']\n",
      "INFO:PML:running k-nn with k=5\n",
      "INFO:PML:embedding dimensionality is 512\n",
      "INFO:PML:New best accuracy! 0.17980046094129065\n",
      "INFO:PML:TRAINING EPOCH 7\n",
      "total_loss=37.99511: 100%|██████████| 1913/1913 [17:05<00:00,  1.87it/s]\n",
      "INFO:PML:Evaluating epoch 7\n",
      "INFO:PML:Getting embeddings for the val split\n",
      "100%|██████████| 213/213 [00:56<00:00,  3.80it/s]\n",
      "INFO:PML:Getting embeddings for the train split\n",
      "100%|██████████| 1914/1914 [08:33<00:00,  3.73it/s]\n",
      "INFO:PML:Computing accuracy for the val split w.r.t ['train']\n",
      "INFO:PML:running k-nn with k=5\n",
      "INFO:PML:embedding dimensionality is 512\n",
      "INFO:PML:New best accuracy! 0.2036794436357755\n",
      "INFO:PML:TRAINING EPOCH 8\n",
      "total_loss=36.50370: 100%|██████████| 1913/1913 [17:06<00:00,  1.86it/s]\n",
      "INFO:PML:Evaluating epoch 8\n",
      "INFO:PML:Getting embeddings for the val split\n",
      "100%|██████████| 213/213 [00:55<00:00,  3.85it/s]\n",
      "INFO:PML:Getting embeddings for the train split\n",
      "100%|██████████| 1914/1914 [08:24<00:00,  3.80it/s]\n",
      "INFO:PML:Computing accuracy for the val split w.r.t ['train']\n",
      "INFO:PML:running k-nn with k=5\n",
      "INFO:PML:embedding dimensionality is 512\n",
      "INFO:PML:New best accuracy! 0.21198750606501698\n",
      "INFO:PML:TRAINING EPOCH 9\n",
      "total_loss=35.68280: 100%|██████████| 1913/1913 [17:08<00:00,  1.86it/s]\n",
      "INFO:PML:Evaluating epoch 9\n",
      "INFO:PML:Getting embeddings for the val split\n",
      "100%|██████████| 213/213 [00:56<00:00,  3.74it/s]\n",
      "INFO:PML:Getting embeddings for the train split\n",
      "100%|██████████| 1914/1914 [08:31<00:00,  3.74it/s]\n",
      "INFO:PML:Computing accuracy for the val split w.r.t ['train']\n",
      "INFO:PML:running k-nn with k=5\n",
      "INFO:PML:embedding dimensionality is 512\n",
      "INFO:PML:New best accuracy! 0.2337363200172516\n",
      "INFO:PML:TRAINING EPOCH 10\n",
      "total_loss=38.47025: 100%|██████████| 1913/1913 [17:05<00:00,  1.87it/s]\n",
      "INFO:PML:Evaluating epoch 10\n",
      "INFO:PML:Getting embeddings for the val split\n",
      "100%|██████████| 213/213 [01:03<00:00,  3.38it/s]\n",
      "INFO:PML:Getting embeddings for the train split\n",
      "100%|██████████| 1914/1914 [08:28<00:00,  3.77it/s]\n",
      "INFO:PML:Computing accuracy for the val split w.r.t ['train']\n",
      "INFO:PML:running k-nn with k=5\n",
      "INFO:PML:embedding dimensionality is 512\n",
      "INFO:PML:New best accuracy! 0.23969519920211335\n",
      "INFO:PML:TRAINING EPOCH 11\n",
      "total_loss=37.81973: 100%|██████████| 1913/1913 [17:12<00:00,  1.85it/s]\n",
      "INFO:PML:Evaluating epoch 11\n",
      "INFO:PML:Getting embeddings for the val split\n",
      "100%|██████████| 213/213 [00:55<00:00,  3.82it/s]\n",
      "INFO:PML:Getting embeddings for the train split\n",
      "100%|██████████| 1914/1914 [08:41<00:00,  3.67it/s]\n",
      "INFO:PML:Computing accuracy for the val split w.r.t ['train']\n",
      "INFO:PML:running k-nn with k=5\n",
      "INFO:PML:embedding dimensionality is 512\n",
      "INFO:PML:New best accuracy! 0.27490666612755404\n",
      "INFO:PML:TRAINING EPOCH 12\n",
      "total_loss=37.89597: 100%|██████████| 1913/1913 [17:08<00:00,  1.86it/s]\n",
      "INFO:PML:Evaluating epoch 12\n",
      "INFO:PML:Getting embeddings for the val split\n",
      "100%|██████████| 213/213 [01:05<00:00,  3.26it/s]\n",
      "INFO:PML:Getting embeddings for the train split\n",
      "100%|██████████| 1914/1914 [08:31<00:00,  3.74it/s]\n",
      "INFO:PML:Computing accuracy for the val split w.r.t ['train']\n",
      "INFO:PML:running k-nn with k=5\n",
      "INFO:PML:embedding dimensionality is 512\n",
      "INFO:PML:New best accuracy! 0.2911619224756052\n",
      "INFO:PML:TRAINING EPOCH 13\n",
      "total_loss=32.56697: 100%|██████████| 1913/1913 [17:03<00:00,  1.87it/s]\n",
      "INFO:PML:Evaluating epoch 13\n",
      "INFO:PML:Getting embeddings for the val split\n",
      "100%|██████████| 213/213 [00:55<00:00,  3.85it/s]\n",
      "INFO:PML:Getting embeddings for the train split\n",
      "100%|██████████| 1914/1914 [08:22<00:00,  3.81it/s]\n",
      "INFO:PML:Computing accuracy for the val split w.r.t ['train']\n",
      "INFO:PML:running k-nn with k=5\n",
      "INFO:PML:embedding dimensionality is 512\n",
      "INFO:PML:New best accuracy! 0.30020014556040764\n",
      "INFO:PML:TRAINING EPOCH 14\n",
      "total_loss=27.91334: 100%|██████████| 1913/1913 [17:07<00:00,  1.86it/s]\n",
      "INFO:PML:Evaluating epoch 14\n",
      "INFO:PML:Getting embeddings for the val split\n",
      "100%|██████████| 213/213 [00:55<00:00,  3.85it/s]\n",
      "INFO:PML:Getting embeddings for the train split\n",
      "100%|██████████| 1914/1914 [08:25<00:00,  3.78it/s]\n",
      "INFO:PML:Computing accuracy for the val split w.r.t ['train']\n",
      "INFO:PML:running k-nn with k=5\n",
      "INFO:PML:embedding dimensionality is 512\n",
      "INFO:PML:New best accuracy! 0.3113675265512966\n",
      "INFO:PML:TRAINING EPOCH 15\n",
      "total_loss=29.46244: 100%|██████████| 1913/1913 [17:07<00:00,  1.86it/s]\n",
      "INFO:PML:Evaluating epoch 15\n",
      "INFO:PML:Getting embeddings for the val split\n",
      "100%|██████████| 213/213 [00:55<00:00,  3.83it/s]\n",
      "INFO:PML:Getting embeddings for the train split\n",
      "100%|██████████| 1914/1914 [08:23<00:00,  3.80it/s]\n",
      "INFO:PML:Computing accuracy for the val split w.r.t ['train']\n",
      "INFO:PML:running k-nn with k=5\n",
      "INFO:PML:embedding dimensionality is 512\n",
      "INFO:PML:New best accuracy! 0.3131348051107877\n"
     ]
    }
   ],
   "source": [
    "trainer.train(num_epochs=N_EPOCH)"
   ]
  },
  {
   "cell_type": "markdown",
   "metadata": {
    "papermill": {
     "duration": 28.929825,
     "end_time": "2022-02-19T20:21:54.930695",
     "exception": false,
     "start_time": "2022-02-19T20:21:26.000870",
     "status": "completed"
    },
    "tags": []
   },
   "source": [
    "## Inference (validation set)"
   ]
  },
  {
   "cell_type": "markdown",
   "metadata": {
    "papermill": {
     "duration": 28.878561,
     "end_time": "2022-02-19T20:22:52.311081",
     "exception": false,
     "start_time": "2022-02-19T20:22:23.432520",
     "status": "completed"
    },
    "tags": []
   },
   "source": [
    "Here we want to use the validation set to help us choose the appropriate distance threshold between our query and reference images after which we classify the former as a `new_individual`. To do so, we loop through the validation set for a number of thresholds and find that which maximises our MAP@5."
   ]
  },
  {
   "cell_type": "markdown",
   "metadata": {
    "papermill": {
     "duration": 28.623222,
     "end_time": "2022-02-19T20:23:49.938924",
     "exception": false,
     "start_time": "2022-02-19T20:23:21.315702",
     "status": "completed"
    },
    "tags": []
   },
   "source": [
    "Load in the best weights:"
   ]
  },
  {
   "cell_type": "code",
   "execution_count": 22,
   "metadata": {
    "execution": {
     "iopub.execute_input": "2022-02-19T20:24:47.932535Z",
     "iopub.status.busy": "2022-02-19T20:24:47.931622Z",
     "iopub.status.idle": "2022-02-19T20:24:47.933873Z",
     "shell.execute_reply": "2022-02-19T20:24:47.934320Z"
    },
    "papermill": {
     "duration": 29.071597,
     "end_time": "2022-02-19T20:24:47.934495",
     "exception": false,
     "start_time": "2022-02-19T20:24:18.862898",
     "status": "completed"
    },
    "tags": []
   },
   "outputs": [],
   "source": [
    "logging.getLogger().setLevel(logging.WARNING)"
   ]
  },
  {
   "cell_type": "code",
   "execution_count": 23,
   "metadata": {
    "execution": {
     "iopub.execute_input": "2022-02-19T20:25:44.913586Z",
     "iopub.status.busy": "2022-02-19T20:25:44.911999Z",
     "iopub.status.idle": "2022-02-19T20:25:45.123042Z",
     "shell.execute_reply": "2022-02-19T20:25:45.122602Z"
    },
    "papermill": {
     "duration": 28.771054,
     "end_time": "2022-02-19T20:25:45.123166",
     "exception": false,
     "start_time": "2022-02-19T20:25:16.352112",
     "status": "completed"
    },
    "tags": []
   },
   "outputs": [
    {
     "data": {
      "text/plain": [
       "<All keys matched successfully>"
      ]
     },
     "execution_count": 23,
     "metadata": {},
     "output_type": "execute_result"
    }
   ],
   "source": [
    "best_trunk_weights = glob.glob('../models/{}/trunk_best*.pth'.format(MODEL_NAME))[0]\n",
    "trunk.load_state_dict(torch.load(best_trunk_weights))"
   ]
  },
  {
   "cell_type": "code",
   "execution_count": 24,
   "metadata": {
    "execution": {
     "iopub.execute_input": "2022-02-19T20:26:42.451318Z",
     "iopub.status.busy": "2022-02-19T20:26:42.450187Z",
     "iopub.status.idle": "2022-02-19T20:26:42.460084Z",
     "shell.execute_reply": "2022-02-19T20:26:42.460597Z"
    },
    "papermill": {
     "duration": 29.042197,
     "end_time": "2022-02-19T20:26:42.460784",
     "exception": false,
     "start_time": "2022-02-19T20:26:13.418587",
     "status": "completed"
    },
    "tags": []
   },
   "outputs": [
    {
     "data": {
      "text/plain": [
       "<All keys matched successfully>"
      ]
     },
     "execution_count": 24,
     "metadata": {},
     "output_type": "execute_result"
    }
   ],
   "source": [
    "best_embedder_weights = glob.glob('../models/{}/embedder_best*.pth'.format(MODEL_NAME))[0]\n",
    "embedder.load_state_dict(torch.load(best_embedder_weights))"
   ]
  },
  {
   "cell_type": "markdown",
   "metadata": {
    "papermill": {
     "duration": 28.640757,
     "end_time": "2022-02-19T20:27:39.976763",
     "exception": false,
     "start_time": "2022-02-19T20:27:11.336006",
     "status": "completed"
    },
    "tags": []
   },
   "source": [
    "Setup the inference model object to easily generate embeddings and find nearest neighbours:"
   ]
  },
  {
   "cell_type": "code",
   "execution_count": 25,
   "metadata": {
    "execution": {
     "iopub.execute_input": "2022-02-19T20:28:37.181545Z",
     "iopub.status.busy": "2022-02-19T20:28:37.180655Z",
     "iopub.status.idle": "2022-02-19T20:28:37.183065Z",
     "shell.execute_reply": "2022-02-19T20:28:37.182641Z"
    },
    "papermill": {
     "duration": 28.516304,
     "end_time": "2022-02-19T20:28:37.183183",
     "exception": false,
     "start_time": "2022-02-19T20:28:08.666879",
     "status": "completed"
    },
    "tags": []
   },
   "outputs": [],
   "source": [
    "inference_model = InferenceModel(\n",
    "    trunk=trunk,\n",
    "    embedder=embedder,\n",
    "    normalize_embeddings=True,\n",
    ")"
   ]
  },
  {
   "cell_type": "markdown",
   "metadata": {
    "papermill": {
     "duration": 28.930505,
     "end_time": "2022-02-19T20:29:34.887273",
     "exception": false,
     "start_time": "2022-02-19T20:29:05.956768",
     "status": "completed"
    },
    "tags": []
   },
   "source": [
    "Train this on the training data:"
   ]
  },
  {
   "cell_type": "code",
   "execution_count": 26,
   "metadata": {
    "execution": {
     "iopub.execute_input": "2022-02-19T20:30:32.083505Z",
     "iopub.status.busy": "2022-02-19T20:30:32.082651Z",
     "iopub.status.idle": "2022-02-19T20:38:53.997991Z",
     "shell.execute_reply": "2022-02-19T20:38:53.997132Z"
    },
    "papermill": {
     "duration": 530.423183,
     "end_time": "2022-02-19T20:38:53.998143",
     "exception": false,
     "start_time": "2022-02-19T20:30:03.574960",
     "status": "completed"
    },
    "tags": []
   },
   "outputs": [],
   "source": [
    "inference_model.train_knn(train_dataset)"
   ]
  },
  {
   "cell_type": "markdown",
   "metadata": {
    "papermill": {
     "duration": 28.950809,
     "end_time": "2022-02-19T20:39:51.712471",
     "exception": false,
     "start_time": "2022-02-19T20:39:22.761662",
     "status": "completed"
    },
    "tags": []
   },
   "source": [
    "Loop through the validation data and loop through to find k nearest neighbours:"
   ]
  },
  {
   "cell_type": "code",
   "execution_count": 27,
   "metadata": {
    "execution": {
     "iopub.execute_input": "2022-02-19T20:40:49.049692Z",
     "iopub.status.busy": "2022-02-19T20:40:49.048891Z",
     "iopub.status.idle": "2022-02-19T20:40:49.050989Z",
     "shell.execute_reply": "2022-02-19T20:40:49.051400Z"
    },
    "papermill": {
     "duration": 28.873194,
     "end_time": "2022-02-19T20:40:49.051539",
     "exception": false,
     "start_time": "2022-02-19T20:40:20.178345",
     "status": "completed"
    },
    "tags": []
   },
   "outputs": [],
   "source": [
    "valid_dataloader = DataLoader(valid_dataset, batch_size=BATCH_SIZE, shuffle=False, num_workers=N_WORKER, pin_memory=True)"
   ]
  },
  {
   "cell_type": "code",
   "execution_count": 28,
   "metadata": {
    "execution": {
     "iopub.execute_input": "2022-02-19T20:41:46.530764Z",
     "iopub.status.busy": "2022-02-19T20:41:46.529951Z",
     "iopub.status.idle": "2022-02-19T20:43:05.226159Z",
     "shell.execute_reply": "2022-02-19T20:43:05.225641Z"
    },
    "papermill": {
     "duration": 107.715607,
     "end_time": "2022-02-19T20:43:05.226299",
     "exception": false,
     "start_time": "2022-02-19T20:41:17.510692",
     "status": "completed"
    },
    "tags": []
   },
   "outputs": [
    {
     "data": {
      "text/plain": [
       "  0%|          | 0/213 [00:00<?, ?it/s]"
      ]
     },
     "metadata": {},
     "output_type": "display_data"
    }
   ],
   "source": [
    "valid_labels_list = []\n",
    "valid_distance_list = []\n",
    "valid_indices_list = []\n",
    "\n",
    "for images, labels in tqdm(valid_dataloader):\n",
    "\n",
    "    distances, indices = inference_model.get_nearest_neighbors(images, k=N_NEIGHBOURS)\n",
    "    valid_labels_list.append(labels)\n",
    "    valid_distance_list.append(distances)\n",
    "    valid_indices_list.append(indices)\n",
    "\n",
    "valid_labels = torch.cat(valid_labels_list, dim=0).cpu().numpy()\n",
    "valid_distances = torch.cat(valid_distance_list, dim=0).cpu().numpy()\n",
    "valid_indices = torch.cat(valid_indices_list, dim=0).cpu().numpy()"
   ]
  },
  {
   "cell_type": "markdown",
   "metadata": {
    "papermill": {
     "duration": 28.908638,
     "end_time": "2022-02-19T20:44:03.046888",
     "exception": false,
     "start_time": "2022-02-19T20:43:34.138250",
     "status": "completed"
    },
    "tags": []
   },
   "source": [
    "We have the indices of the nearest neighbours in our training set, so setup the lookups to return the `individual_id`:"
   ]
  },
  {
   "cell_type": "code",
   "execution_count": 29,
   "metadata": {
    "execution": {
     "iopub.execute_input": "2022-02-19T20:45:00.382423Z",
     "iopub.status.busy": "2022-02-19T20:45:00.381523Z",
     "iopub.status.idle": "2022-02-19T20:45:00.448795Z",
     "shell.execute_reply": "2022-02-19T20:45:00.448339Z"
    },
    "papermill": {
     "duration": 28.706206,
     "end_time": "2022-02-19T20:45:00.448921",
     "exception": false,
     "start_time": "2022-02-19T20:44:31.742715",
     "status": "completed"
    },
    "tags": []
   },
   "outputs": [],
   "source": [
    "new_whale_idx = -1\n",
    "\n",
    "train_labels = train_df['individual_id'].unique()\n",
    "train_idx_lookup = train_df['individual_id'].copy().to_dict()\n",
    "train_idx_lookup[-1] = 'new_individual'\n",
    "\n",
    "valid_class_lookup = valid_df.set_index('label')['individual_id'].copy().to_dict()"
   ]
  },
  {
   "cell_type": "markdown",
   "metadata": {
    "papermill": {
     "duration": 28.853592,
     "end_time": "2022-02-19T20:45:57.780554",
     "exception": false,
     "start_time": "2022-02-19T20:45:28.926962",
     "status": "completed"
    },
    "tags": []
   },
   "source": [
    "Loop through a range of thresholds and find which maximises our MAP@5:"
   ]
  },
  {
   "cell_type": "code",
   "execution_count": 30,
   "metadata": {
    "execution": {
     "iopub.execute_input": "2022-02-19T20:46:55.491555Z",
     "iopub.status.busy": "2022-02-19T20:46:55.490509Z",
     "iopub.status.idle": "2022-02-19T20:46:57.403972Z",
     "shell.execute_reply": "2022-02-19T20:46:57.404385Z"
    },
    "papermill": {
     "duration": 30.586033,
     "end_time": "2022-02-19T20:46:57.404547",
     "exception": false,
     "start_time": "2022-02-19T20:46:26.818514",
     "status": "completed"
    },
    "tags": []
   },
   "outputs": [],
   "source": [
    "thresholds = [np.quantile(valid_distances, q=q) for q in np.arange(0, 1.0, 0.01)]"
   ]
  },
  {
   "cell_type": "code",
   "execution_count": 31,
   "metadata": {
    "execution": {
     "iopub.execute_input": "2022-02-19T20:47:55.545651Z",
     "iopub.status.busy": "2022-02-19T20:47:55.544760Z",
     "iopub.status.idle": "2022-02-19T20:54:01.148331Z",
     "shell.execute_reply": "2022-02-19T20:54:01.147882Z"
    },
    "papermill": {
     "duration": 394.725171,
     "end_time": "2022-02-19T20:54:01.148457",
     "exception": false,
     "start_time": "2022-02-19T20:47:26.423286",
     "status": "completed"
    },
    "tags": []
   },
   "outputs": [
    {
     "data": {
      "text/plain": [
       "  0%|          | 0/100 [00:00<?, ?it/s]"
      ]
     },
     "metadata": {},
     "output_type": "display_data"
    }
   ],
   "source": [
    "results = []\n",
    "\n",
    "for threshold in tqdm(thresholds):\n",
    "\n",
    "    prediction_list = []\n",
    "    running_map=0\n",
    "\n",
    "    for i in range(len(valid_distances)):\n",
    "\n",
    "        pred_knn_idx = valid_indices[i, :].copy()  \n",
    "        insert_idx = np.where(valid_distances[i, :] > threshold) \n",
    "\n",
    "        if insert_idx[0].size != 0:  \n",
    "            pred_knn_idx = np.insert(pred_knn_idx, np.min(insert_idx[0]), new_whale_idx) \n",
    "\n",
    "        predicted_label_list = []\n",
    "        \n",
    "        for predicted_idx in pred_knn_idx:\n",
    "            predicted_label = train_idx_lookup[predicted_idx]\n",
    "            if len(predicted_label_list) == 5:\n",
    "                break\n",
    "            if (predicted_label == 'new_individual') | (predicted_label not in predicted_label_list):\n",
    "                predicted_label_list.append(predicted_label)\n",
    "\n",
    "        gt = valid_class_lookup[valid_labels[i]]\n",
    "\n",
    "        if gt not in train_labels:\n",
    "            gt = \"new_individual\"\n",
    "\n",
    "        precision_vals = []\n",
    "\n",
    "        for j in range(5):\n",
    "            if predicted_label_list[j] == gt:\n",
    "                precision_vals.append(1/(j+1))\n",
    "            else:\n",
    "                precision_vals.append(0)\n",
    "\n",
    "        running_map += np.max(precision_vals)\n",
    "\n",
    "    results.append([threshold, running_map / len(valid_distances)])\n",
    "\n",
    "results_df = pd.DataFrame(results, columns=['threshold','map5'])"
   ]
  },
  {
   "cell_type": "code",
   "execution_count": 32,
   "metadata": {
    "execution": {
     "iopub.execute_input": "2022-02-19T20:54:58.889121Z",
     "iopub.status.busy": "2022-02-19T20:54:58.888195Z",
     "iopub.status.idle": "2022-02-19T20:54:58.891122Z",
     "shell.execute_reply": "2022-02-19T20:54:58.891524Z"
    },
    "papermill": {
     "duration": 28.576687,
     "end_time": "2022-02-19T20:54:58.891659",
     "exception": false,
     "start_time": "2022-02-19T20:54:30.314972",
     "status": "completed"
    },
    "tags": []
   },
   "outputs": [
    {
     "data": {
      "text/html": [
       "<div>\n",
       "<style scoped>\n",
       "    .dataframe tbody tr th:only-of-type {\n",
       "        vertical-align: middle;\n",
       "    }\n",
       "\n",
       "    .dataframe tbody tr th {\n",
       "        vertical-align: top;\n",
       "    }\n",
       "\n",
       "    .dataframe thead th {\n",
       "        text-align: right;\n",
       "    }\n",
       "</style>\n",
       "<table border=\"1\" class=\"dataframe\">\n",
       "  <thead>\n",
       "    <tr style=\"text-align: right;\">\n",
       "      <th></th>\n",
       "      <th>threshold</th>\n",
       "      <th>map5</th>\n",
       "    </tr>\n",
       "  </thead>\n",
       "  <tbody>\n",
       "    <tr>\n",
       "      <th>0</th>\n",
       "      <td>0.803500</td>\n",
       "      <td>0.418257</td>\n",
       "    </tr>\n",
       "    <tr>\n",
       "      <th>1</th>\n",
       "      <td>0.837327</td>\n",
       "      <td>0.417042</td>\n",
       "    </tr>\n",
       "    <tr>\n",
       "      <th>2</th>\n",
       "      <td>0.765159</td>\n",
       "      <td>0.416654</td>\n",
       "    </tr>\n",
       "    <tr>\n",
       "      <th>3</th>\n",
       "      <td>0.867816</td>\n",
       "      <td>0.414766</td>\n",
       "    </tr>\n",
       "    <tr>\n",
       "      <th>4</th>\n",
       "      <td>0.718935</td>\n",
       "      <td>0.414407</td>\n",
       "    </tr>\n",
       "  </tbody>\n",
       "</table>\n",
       "</div>"
      ],
      "text/plain": [
       "   threshold      map5\n",
       "0   0.803500  0.418257\n",
       "1   0.837327  0.417042\n",
       "2   0.765159  0.416654\n",
       "3   0.867816  0.414766\n",
       "4   0.718935  0.414407"
      ]
     },
     "execution_count": 32,
     "metadata": {},
     "output_type": "execute_result"
    }
   ],
   "source": [
    "results_df = results_df.sort_values(by='map5', ascending=False).reset_index(drop=True)\n",
    "results_df.head(5)"
   ]
  },
  {
   "cell_type": "markdown",
   "metadata": {
    "papermill": {
     "duration": 28.624511,
     "end_time": "2022-02-19T20:55:56.542632",
     "exception": false,
     "start_time": "2022-02-19T20:55:27.918121",
     "status": "completed"
    },
    "tags": []
   },
   "source": [
    "Grab the best result:"
   ]
  },
  {
   "cell_type": "code",
   "execution_count": 33,
   "metadata": {
    "execution": {
     "iopub.execute_input": "2022-02-19T20:56:54.199018Z",
     "iopub.status.busy": "2022-02-19T20:56:54.198248Z",
     "iopub.status.idle": "2022-02-19T20:56:54.201096Z",
     "shell.execute_reply": "2022-02-19T20:56:54.201495Z"
    },
    "papermill": {
     "duration": 29.01663,
     "end_time": "2022-02-19T20:56:54.201630",
     "exception": false,
     "start_time": "2022-02-19T20:56:25.185000",
     "status": "completed"
    },
    "tags": []
   },
   "outputs": [
    {
     "data": {
      "text/plain": [
       "0.8034998118877411"
      ]
     },
     "execution_count": 33,
     "metadata": {},
     "output_type": "execute_result"
    }
   ],
   "source": [
    "threshold = results_df.loc[0, 'threshold']\n",
    "threshold"
   ]
  },
  {
   "cell_type": "markdown",
   "metadata": {
    "papermill": {
     "duration": 29.219542,
     "end_time": "2022-02-19T20:57:52.223453",
     "exception": false,
     "start_time": "2022-02-19T20:57:23.003911",
     "status": "completed"
    },
    "tags": []
   },
   "source": [
    "## Inference (test set)"
   ]
  },
  {
   "cell_type": "markdown",
   "metadata": {
    "papermill": {
     "duration": 29.081862,
     "end_time": "2022-02-19T20:58:50.146584",
     "exception": false,
     "start_time": "2022-02-19T20:58:21.064722",
     "status": "completed"
    },
    "tags": []
   },
   "source": [
    "We want to make sure we use both our training and validation images for comparison. Combine the two dataframes and add a new dataset: "
   ]
  },
  {
   "cell_type": "code",
   "execution_count": 34,
   "metadata": {
    "execution": {
     "iopub.execute_input": "2022-02-19T20:59:47.753680Z",
     "iopub.status.busy": "2022-02-19T20:59:47.752884Z",
     "iopub.status.idle": "2022-02-19T20:59:47.764161Z",
     "shell.execute_reply": "2022-02-19T20:59:47.763746Z"
    },
    "papermill": {
     "duration": 28.732615,
     "end_time": "2022-02-19T20:59:47.764277",
     "exception": false,
     "start_time": "2022-02-19T20:59:19.031662",
     "status": "completed"
    },
    "tags": []
   },
   "outputs": [
    {
     "data": {
      "text/plain": [
       "51033"
      ]
     },
     "execution_count": 34,
     "metadata": {},
     "output_type": "execute_result"
    }
   ],
   "source": [
    "combined_df = pd.concat([train_df, valid_df], axis=0).reset_index(drop=True)\n",
    "combined_dataset = HappyWhaleDataset(df=combined_df, image_dir=TRAIN_DIR, return_labels=True)\n",
    "len(combined_dataset)"
   ]
  },
  {
   "cell_type": "markdown",
   "metadata": {
    "papermill": {
     "duration": 29.037299,
     "end_time": "2022-02-19T21:00:45.483680",
     "exception": false,
     "start_time": "2022-02-19T21:00:16.446381",
     "status": "completed"
    },
    "tags": []
   },
   "source": [
    "Re-train the KNN model on this:"
   ]
  },
  {
   "cell_type": "code",
   "execution_count": 35,
   "metadata": {
    "execution": {
     "iopub.execute_input": "2022-02-19T21:01:43.509350Z",
     "iopub.status.busy": "2022-02-19T21:01:43.508801Z",
     "iopub.status.idle": "2022-02-19T21:11:01.976925Z",
     "shell.execute_reply": "2022-02-19T21:11:01.976376Z"
    },
    "papermill": {
     "duration": 587.517232,
     "end_time": "2022-02-19T21:11:01.977085",
     "exception": false,
     "start_time": "2022-02-19T21:01:14.459853",
     "status": "completed"
    },
    "tags": []
   },
   "outputs": [],
   "source": [
    "inference_model.train_knn(combined_dataset)"
   ]
  },
  {
   "cell_type": "markdown",
   "metadata": {
    "papermill": {
     "duration": 29.129267,
     "end_time": "2022-02-19T21:11:59.847330",
     "exception": false,
     "start_time": "2022-02-19T21:11:30.718063",
     "status": "completed"
    },
    "tags": []
   },
   "source": [
    "Grab the submission file:"
   ]
  },
  {
   "cell_type": "code",
   "execution_count": 36,
   "metadata": {
    "execution": {
     "iopub.execute_input": "2022-02-19T21:12:57.387812Z",
     "iopub.status.busy": "2022-02-19T21:12:57.387260Z",
     "iopub.status.idle": "2022-02-19T21:12:57.443465Z",
     "shell.execute_reply": "2022-02-19T21:12:57.442964Z"
    },
    "papermill": {
     "duration": 28.698311,
     "end_time": "2022-02-19T21:12:57.443592",
     "exception": false,
     "start_time": "2022-02-19T21:12:28.745281",
     "status": "completed"
    },
    "tags": []
   },
   "outputs": [],
   "source": [
    "test_df = pd.read_csv('../input/happy-whale-and-dolphin/sample_submission.csv')"
   ]
  },
  {
   "cell_type": "markdown",
   "metadata": {
    "papermill": {
     "duration": 28.649551,
     "end_time": "2022-02-19T21:13:54.762038",
     "exception": false,
     "start_time": "2022-02-19T21:13:26.112487",
     "status": "completed"
    },
    "tags": []
   },
   "source": [
    "Create our dataset and dataloader objects for the test set:"
   ]
  },
  {
   "cell_type": "code",
   "execution_count": 37,
   "metadata": {
    "execution": {
     "iopub.execute_input": "2022-02-19T21:14:52.808391Z",
     "iopub.status.busy": "2022-02-19T21:14:52.807542Z",
     "iopub.status.idle": "2022-02-19T21:14:52.813499Z",
     "shell.execute_reply": "2022-02-19T21:14:52.813074Z"
    },
    "papermill": {
     "duration": 29.134032,
     "end_time": "2022-02-19T21:14:52.813621",
     "exception": false,
     "start_time": "2022-02-19T21:14:23.679589",
     "status": "completed"
    },
    "tags": []
   },
   "outputs": [
    {
     "data": {
      "text/plain": [
       "27956"
      ]
     },
     "execution_count": 37,
     "metadata": {},
     "output_type": "execute_result"
    }
   ],
   "source": [
    "test_dataset = HappyWhaleDataset(df=test_df, image_dir=TEST_DIR, return_labels=False)\n",
    "len(test_dataset)"
   ]
  },
  {
   "cell_type": "code",
   "execution_count": 38,
   "metadata": {
    "execution": {
     "iopub.execute_input": "2022-02-19T21:15:50.588162Z",
     "iopub.status.busy": "2022-02-19T21:15:50.587380Z",
     "iopub.status.idle": "2022-02-19T21:15:50.589477Z",
     "shell.execute_reply": "2022-02-19T21:15:50.589924Z"
    },
    "papermill": {
     "duration": 28.986153,
     "end_time": "2022-02-19T21:15:50.590067",
     "exception": false,
     "start_time": "2022-02-19T21:15:21.603914",
     "status": "completed"
    },
    "tags": []
   },
   "outputs": [],
   "source": [
    "test_dataloader = DataLoader(test_dataset, batch_size=BATCH_SIZE, shuffle=False, num_workers=N_WORKER, pin_memory=True)"
   ]
  },
  {
   "cell_type": "markdown",
   "metadata": {
    "papermill": {
     "duration": 29.079939,
     "end_time": "2022-02-19T21:16:48.628440",
     "exception": false,
     "start_time": "2022-02-19T21:16:19.548501",
     "status": "completed"
    },
    "tags": []
   },
   "source": [
    "Find the k nearest neighbours in our combined dataset:"
   ]
  },
  {
   "cell_type": "code",
   "execution_count": 39,
   "metadata": {
    "execution": {
     "iopub.execute_input": "2022-02-19T21:17:45.808510Z",
     "iopub.status.busy": "2022-02-19T21:17:45.807563Z",
     "iopub.status.idle": "2022-02-19T21:25:18.307620Z",
     "shell.execute_reply": "2022-02-19T21:25:18.308324Z"
    },
    "papermill": {
     "duration": 481.219801,
     "end_time": "2022-02-19T21:25:18.308503",
     "exception": false,
     "start_time": "2022-02-19T21:17:17.088702",
     "status": "completed"
    },
    "tags": []
   },
   "outputs": [
    {
     "data": {
      "text/plain": [
       "  0%|          | 0/1165 [00:00<?, ?it/s]"
      ]
     },
     "metadata": {},
     "output_type": "display_data"
    }
   ],
   "source": [
    "test_distance_list = []\n",
    "test_indices_list = []\n",
    "\n",
    "for images in tqdm(test_dataloader):\n",
    "\n",
    "    distances, indices = inference_model.get_nearest_neighbors(images, k=N_NEIGHBOURS)\n",
    "    test_distance_list.append(distances)\n",
    "    test_indices_list.append(indices)\n",
    "\n",
    "test_distances = torch.cat(test_distance_list, dim=0).cpu().numpy()\n",
    "test_indices = torch.cat(test_indices_list, dim=0).cpu().numpy()"
   ]
  },
  {
   "cell_type": "markdown",
   "metadata": {
    "papermill": {
     "duration": 29.335593,
     "end_time": "2022-02-19T21:26:16.661119",
     "exception": false,
     "start_time": "2022-02-19T21:25:47.325526",
     "status": "completed"
    },
    "tags": []
   },
   "source": [
    "Prepare the labels for lookup based on index:"
   ]
  },
  {
   "cell_type": "code",
   "execution_count": 40,
   "metadata": {
    "execution": {
     "iopub.execute_input": "2022-02-19T21:27:14.548621Z",
     "iopub.status.busy": "2022-02-19T21:27:14.547852Z",
     "iopub.status.idle": "2022-02-19T21:27:14.605665Z",
     "shell.execute_reply": "2022-02-19T21:27:14.606106Z"
    },
    "papermill": {
     "duration": 28.942567,
     "end_time": "2022-02-19T21:27:14.606263",
     "exception": false,
     "start_time": "2022-02-19T21:26:45.663696",
     "status": "completed"
    },
    "tags": []
   },
   "outputs": [],
   "source": [
    "combined_idx_lookup = combined_df['individual_id'].copy().to_dict()\n",
    "combined_idx_lookup[-1] = 'new_individual'"
   ]
  },
  {
   "cell_type": "markdown",
   "metadata": {
    "papermill": {
     "duration": 28.537107,
     "end_time": "2022-02-19T21:28:12.308856",
     "exception": false,
     "start_time": "2022-02-19T21:27:43.771749",
     "status": "completed"
    },
    "tags": []
   },
   "source": [
    "Loop through applying the threshold we found earlier to insert `new_individual`:"
   ]
  },
  {
   "cell_type": "code",
   "execution_count": 41,
   "metadata": {
    "execution": {
     "iopub.execute_input": "2022-02-19T21:29:10.773729Z",
     "iopub.status.busy": "2022-02-19T21:29:10.772824Z",
     "iopub.status.idle": "2022-02-19T21:29:12.236424Z",
     "shell.execute_reply": "2022-02-19T21:29:12.236853Z"
    },
    "papermill": {
     "duration": 30.714511,
     "end_time": "2022-02-19T21:29:12.237022",
     "exception": false,
     "start_time": "2022-02-19T21:28:41.522511",
     "status": "completed"
    },
    "tags": []
   },
   "outputs": [
    {
     "data": {
      "text/html": [
       "<div>\n",
       "<style scoped>\n",
       "    .dataframe tbody tr th:only-of-type {\n",
       "        vertical-align: middle;\n",
       "    }\n",
       "\n",
       "    .dataframe tbody tr th {\n",
       "        vertical-align: top;\n",
       "    }\n",
       "\n",
       "    .dataframe thead th {\n",
       "        text-align: right;\n",
       "    }\n",
       "</style>\n",
       "<table border=\"1\" class=\"dataframe\">\n",
       "  <thead>\n",
       "    <tr style=\"text-align: right;\">\n",
       "      <th></th>\n",
       "      <th>0</th>\n",
       "      <th>1</th>\n",
       "      <th>2</th>\n",
       "      <th>3</th>\n",
       "      <th>4</th>\n",
       "    </tr>\n",
       "  </thead>\n",
       "  <tbody>\n",
       "    <tr>\n",
       "      <th>0</th>\n",
       "      <td>6f4abc5666cd</td>\n",
       "      <td>6d1cc6d00dca</td>\n",
       "      <td>new_individual</td>\n",
       "      <td>d354abb7798b</td>\n",
       "      <td>5dc511af5c99</td>\n",
       "    </tr>\n",
       "    <tr>\n",
       "      <th>1</th>\n",
       "      <td>new_individual</td>\n",
       "      <td>64cbd1f56354</td>\n",
       "      <td>ca2c3f068c7a</td>\n",
       "      <td>81c3d57462fb</td>\n",
       "      <td>6a28c14fc117</td>\n",
       "    </tr>\n",
       "    <tr>\n",
       "      <th>2</th>\n",
       "      <td>c80653b9edd0</td>\n",
       "      <td>afbfd0d6b694</td>\n",
       "      <td>31f748b822f4</td>\n",
       "      <td>20c4589b5b16</td>\n",
       "      <td>4f87f855216a</td>\n",
       "    </tr>\n",
       "    <tr>\n",
       "      <th>3</th>\n",
       "      <td>new_individual</td>\n",
       "      <td>ad962a1131d3</td>\n",
       "      <td>6ad3713dda3a</td>\n",
       "      <td>1492507238d8</td>\n",
       "      <td>91ed5caeb0d3</td>\n",
       "    </tr>\n",
       "    <tr>\n",
       "      <th>4</th>\n",
       "      <td>new_individual</td>\n",
       "      <td>d4d2cd407a48</td>\n",
       "      <td>b897fc70bb2e</td>\n",
       "      <td>e35763314b89</td>\n",
       "      <td>a18ef9f290bb</td>\n",
       "    </tr>\n",
       "  </tbody>\n",
       "</table>\n",
       "</div>"
      ],
      "text/plain": [
       "                0             1               2             3             4\n",
       "0    6f4abc5666cd  6d1cc6d00dca  new_individual  d354abb7798b  5dc511af5c99\n",
       "1  new_individual  64cbd1f56354    ca2c3f068c7a  81c3d57462fb  6a28c14fc117\n",
       "2    c80653b9edd0  afbfd0d6b694    31f748b822f4  20c4589b5b16  4f87f855216a\n",
       "3  new_individual  ad962a1131d3    6ad3713dda3a  1492507238d8  91ed5caeb0d3\n",
       "4  new_individual  d4d2cd407a48    b897fc70bb2e  e35763314b89  a18ef9f290bb"
      ]
     },
     "execution_count": 41,
     "metadata": {},
     "output_type": "execute_result"
    }
   ],
   "source": [
    "results = []\n",
    "\n",
    "prediction_list = []\n",
    "\n",
    "for i in range(len(test_distances)):\n",
    "\n",
    "    pred_knn_idx = test_indices[i, :].copy() \n",
    "    insert_idx = np.where(test_distances[i, :] > threshold)  \n",
    "\n",
    "    if insert_idx[0].size != 0:  \n",
    "        pred_knn_idx = np.insert(pred_knn_idx, np.min(insert_idx[0]), new_whale_idx)  \n",
    "\n",
    "    predicted_label_list = []\n",
    "\n",
    "    for predicted_idx in pred_knn_idx:\n",
    "        predicted_label = combined_idx_lookup[predicted_idx]\n",
    "        if len(predicted_label_list) == 5:\n",
    "            break\n",
    "        if (predicted_label == 'new_individual') | (predicted_label not in predicted_label_list):\n",
    "            predicted_label_list.append(predicted_label)\n",
    "\n",
    "    prediction_list.append(predicted_label_list)\n",
    "\n",
    "prediction_df = pd.DataFrame(prediction_list)\n",
    "prediction_df.head()"
   ]
  },
  {
   "cell_type": "markdown",
   "metadata": {
    "papermill": {
     "duration": 29.348237,
     "end_time": "2022-02-19T21:30:10.525624",
     "exception": false,
     "start_time": "2022-02-19T21:29:41.177387",
     "status": "completed"
    },
    "tags": []
   },
   "source": [
    "Create the prediction label:"
   ]
  },
  {
   "cell_type": "code",
   "execution_count": 42,
   "metadata": {
    "execution": {
     "iopub.execute_input": "2022-02-19T21:31:08.393922Z",
     "iopub.status.busy": "2022-02-19T21:31:08.359784Z",
     "iopub.status.idle": "2022-02-19T21:31:08.398952Z",
     "shell.execute_reply": "2022-02-19T21:31:08.398499Z"
    },
    "papermill": {
     "duration": 28.908425,
     "end_time": "2022-02-19T21:31:08.399076",
     "exception": false,
     "start_time": "2022-02-19T21:30:39.490651",
     "status": "completed"
    },
    "tags": []
   },
   "outputs": [
    {
     "data": {
      "text/html": [
       "<div>\n",
       "<style scoped>\n",
       "    .dataframe tbody tr th:only-of-type {\n",
       "        vertical-align: middle;\n",
       "    }\n",
       "\n",
       "    .dataframe tbody tr th {\n",
       "        vertical-align: top;\n",
       "    }\n",
       "\n",
       "    .dataframe thead th {\n",
       "        text-align: right;\n",
       "    }\n",
       "</style>\n",
       "<table border=\"1\" class=\"dataframe\">\n",
       "  <thead>\n",
       "    <tr style=\"text-align: right;\">\n",
       "      <th></th>\n",
       "      <th>0</th>\n",
       "      <th>1</th>\n",
       "      <th>2</th>\n",
       "      <th>3</th>\n",
       "      <th>4</th>\n",
       "      <th>predictions</th>\n",
       "    </tr>\n",
       "  </thead>\n",
       "  <tbody>\n",
       "    <tr>\n",
       "      <th>0</th>\n",
       "      <td>6f4abc5666cd</td>\n",
       "      <td>6d1cc6d00dca</td>\n",
       "      <td>new_individual</td>\n",
       "      <td>d354abb7798b</td>\n",
       "      <td>5dc511af5c99</td>\n",
       "      <td>6f4abc5666cd 6d1cc6d00dca new_individual d354a...</td>\n",
       "    </tr>\n",
       "    <tr>\n",
       "      <th>1</th>\n",
       "      <td>new_individual</td>\n",
       "      <td>64cbd1f56354</td>\n",
       "      <td>ca2c3f068c7a</td>\n",
       "      <td>81c3d57462fb</td>\n",
       "      <td>6a28c14fc117</td>\n",
       "      <td>new_individual 64cbd1f56354 ca2c3f068c7a 81c3d...</td>\n",
       "    </tr>\n",
       "    <tr>\n",
       "      <th>2</th>\n",
       "      <td>c80653b9edd0</td>\n",
       "      <td>afbfd0d6b694</td>\n",
       "      <td>31f748b822f4</td>\n",
       "      <td>20c4589b5b16</td>\n",
       "      <td>4f87f855216a</td>\n",
       "      <td>c80653b9edd0 afbfd0d6b694 31f748b822f4 20c4589...</td>\n",
       "    </tr>\n",
       "    <tr>\n",
       "      <th>3</th>\n",
       "      <td>new_individual</td>\n",
       "      <td>ad962a1131d3</td>\n",
       "      <td>6ad3713dda3a</td>\n",
       "      <td>1492507238d8</td>\n",
       "      <td>91ed5caeb0d3</td>\n",
       "      <td>new_individual ad962a1131d3 6ad3713dda3a 14925...</td>\n",
       "    </tr>\n",
       "    <tr>\n",
       "      <th>4</th>\n",
       "      <td>new_individual</td>\n",
       "      <td>d4d2cd407a48</td>\n",
       "      <td>b897fc70bb2e</td>\n",
       "      <td>e35763314b89</td>\n",
       "      <td>a18ef9f290bb</td>\n",
       "      <td>new_individual d4d2cd407a48 b897fc70bb2e e3576...</td>\n",
       "    </tr>\n",
       "  </tbody>\n",
       "</table>\n",
       "</div>"
      ],
      "text/plain": [
       "                0             1               2             3             4  \\\n",
       "0    6f4abc5666cd  6d1cc6d00dca  new_individual  d354abb7798b  5dc511af5c99   \n",
       "1  new_individual  64cbd1f56354    ca2c3f068c7a  81c3d57462fb  6a28c14fc117   \n",
       "2    c80653b9edd0  afbfd0d6b694    31f748b822f4  20c4589b5b16  4f87f855216a   \n",
       "3  new_individual  ad962a1131d3    6ad3713dda3a  1492507238d8  91ed5caeb0d3   \n",
       "4  new_individual  d4d2cd407a48    b897fc70bb2e  e35763314b89  a18ef9f290bb   \n",
       "\n",
       "                                         predictions  \n",
       "0  6f4abc5666cd 6d1cc6d00dca new_individual d354a...  \n",
       "1  new_individual 64cbd1f56354 ca2c3f068c7a 81c3d...  \n",
       "2  c80653b9edd0 afbfd0d6b694 31f748b822f4 20c4589...  \n",
       "3  new_individual ad962a1131d3 6ad3713dda3a 14925...  \n",
       "4  new_individual d4d2cd407a48 b897fc70bb2e e3576...  "
      ]
     },
     "execution_count": 42,
     "metadata": {},
     "output_type": "execute_result"
    }
   ],
   "source": [
    "prediction_df['predictions'] = prediction_df[0].astype(str) + ' ' + prediction_df[1].astype(str) + ' ' + prediction_df[2 ].astype(str) + ' ' + prediction_df[3].astype(str) + ' ' + prediction_df[4].astype(str)\n",
    "prediction_df.head()"
   ]
  },
  {
   "cell_type": "markdown",
   "metadata": {
    "papermill": {
     "duration": 29.094327,
     "end_time": "2022-02-19T21:32:07.000855",
     "exception": false,
     "start_time": "2022-02-19T21:31:37.906528",
     "status": "completed"
    },
    "tags": []
   },
   "source": [
    "Attach this to the submission:"
   ]
  },
  {
   "cell_type": "code",
   "execution_count": 43,
   "metadata": {
    "execution": {
     "iopub.execute_input": "2022-02-19T21:33:04.792095Z",
     "iopub.status.busy": "2022-02-19T21:33:04.791527Z",
     "iopub.status.idle": "2022-02-19T21:33:04.831373Z",
     "shell.execute_reply": "2022-02-19T21:33:04.831849Z"
    },
    "papermill": {
     "duration": 29.477323,
     "end_time": "2022-02-19T21:33:04.832004",
     "exception": false,
     "start_time": "2022-02-19T21:32:35.354681",
     "status": "completed"
    },
    "tags": []
   },
   "outputs": [
    {
     "data": {
      "text/html": [
       "<div>\n",
       "<style scoped>\n",
       "    .dataframe tbody tr th:only-of-type {\n",
       "        vertical-align: middle;\n",
       "    }\n",
       "\n",
       "    .dataframe tbody tr th {\n",
       "        vertical-align: top;\n",
       "    }\n",
       "\n",
       "    .dataframe thead th {\n",
       "        text-align: right;\n",
       "    }\n",
       "</style>\n",
       "<table border=\"1\" class=\"dataframe\">\n",
       "  <thead>\n",
       "    <tr style=\"text-align: right;\">\n",
       "      <th></th>\n",
       "      <th>image</th>\n",
       "      <th>predictions</th>\n",
       "    </tr>\n",
       "  </thead>\n",
       "  <tbody>\n",
       "    <tr>\n",
       "      <th>0</th>\n",
       "      <td>000110707af0ba.jpg</td>\n",
       "      <td>6f4abc5666cd 6d1cc6d00dca new_individual d354a...</td>\n",
       "    </tr>\n",
       "  </tbody>\n",
       "</table>\n",
       "</div>"
      ],
      "text/plain": [
       "                image                                        predictions\n",
       "0  000110707af0ba.jpg  6f4abc5666cd 6d1cc6d00dca new_individual d354a..."
      ]
     },
     "execution_count": 43,
     "metadata": {},
     "output_type": "execute_result"
    }
   ],
   "source": [
    "submission = pd.read_csv('../input/happy-whale-and-dolphin/sample_submission.csv')\n",
    "submission['predictions'] = prediction_df['predictions']\n",
    "submission.head(1)"
   ]
  },
  {
   "cell_type": "markdown",
   "metadata": {
    "papermill": {
     "duration": 29.150562,
     "end_time": "2022-02-19T21:34:03.551374",
     "exception": false,
     "start_time": "2022-02-19T21:33:34.400812",
     "status": "completed"
    },
    "tags": []
   },
   "source": [
    "Save our submission:"
   ]
  },
  {
   "cell_type": "code",
   "execution_count": 44,
   "metadata": {
    "execution": {
     "iopub.execute_input": "2022-02-19T21:35:02.362776Z",
     "iopub.status.busy": "2022-02-19T21:35:02.362045Z",
     "iopub.status.idle": "2022-02-19T21:35:02.481866Z",
     "shell.execute_reply": "2022-02-19T21:35:02.481380Z"
    },
    "papermill": {
     "duration": 29.459109,
     "end_time": "2022-02-19T21:35:02.481990",
     "exception": false,
     "start_time": "2022-02-19T21:34:33.022881",
     "status": "completed"
    },
    "tags": []
   },
   "outputs": [],
   "source": [
    "submission.to_csv('submission.csv', index=False)"
   ]
  },
  {
   "cell_type": "code",
   "execution_count": null,
   "metadata": {
    "papermill": {
     "duration": 29.474816,
     "end_time": "2022-02-19T21:36:00.869899",
     "exception": false,
     "start_time": "2022-02-19T21:35:31.395083",
     "status": "completed"
    },
    "tags": []
   },
   "outputs": [],
   "source": []
  }
 ],
 "metadata": {
  "kernelspec": {
   "display_name": "Python 3",
   "language": "python",
   "name": "python3"
  },
  "language_info": {
   "codemirror_mode": {
    "name": "ipython",
    "version": 3
   },
   "file_extension": ".py",
   "mimetype": "text/x-python",
   "name": "python",
   "nbconvert_exporter": "python",
   "pygments_lexer": "ipython3",
   "version": "3.6.9"
  },
  "papermill": {
   "default_parameters": {},
   "duration": 28625.861989,
   "end_time": "2022-02-19T21:36:32.834904",
   "environment_variables": {},
   "exception": null,
   "input_path": "__notebook__.ipynb",
   "output_path": "__notebook__.ipynb",
   "parameters": {},
   "start_time": "2022-02-19T13:39:26.972915",
   "version": "2.3.3"
  },
  "widgets": {
   "application/vnd.jupyter.widget-state+json": {
    "state": {
     "0d3cda729a25459f8a2d5f41474a32ea": {
      "model_module": "@jupyter-widgets/base",
      "model_module_version": "1.2.0",
      "model_name": "LayoutModel",
      "state": {
       "_model_module": "@jupyter-widgets/base",
       "_model_module_version": "1.2.0",
       "_model_name": "LayoutModel",
       "_view_count": null,
       "_view_module": "@jupyter-widgets/base",
       "_view_module_version": "1.2.0",
       "_view_name": "LayoutView",
       "align_content": null,
       "align_items": null,
       "align_self": null,
       "border": null,
       "bottom": null,
       "display": null,
       "flex": null,
       "flex_flow": null,
       "grid_area": null,
       "grid_auto_columns": null,
       "grid_auto_flow": null,
       "grid_auto_rows": null,
       "grid_column": null,
       "grid_gap": null,
       "grid_row": null,
       "grid_template_areas": null,
       "grid_template_columns": null,
       "grid_template_rows": null,
       "height": null,
       "justify_content": null,
       "justify_items": null,
       "left": null,
       "margin": null,
       "max_height": null,
       "max_width": null,
       "min_height": null,
       "min_width": null,
       "object_fit": null,
       "object_position": null,
       "order": null,
       "overflow": null,
       "overflow_x": null,
       "overflow_y": null,
       "padding": null,
       "right": null,
       "top": null,
       "visibility": null,
       "width": null
      }
     },
     "0e38b900b8b74c7baba7ddabae1dcaf6": {
      "model_module": "@jupyter-widgets/controls",
      "model_module_version": "1.5.0",
      "model_name": "HTMLModel",
      "state": {
       "_dom_classes": [],
       "_model_module": "@jupyter-widgets/controls",
       "_model_module_version": "1.5.0",
       "_model_name": "HTMLModel",
       "_view_count": null,
       "_view_module": "@jupyter-widgets/controls",
       "_view_module_version": "1.5.0",
       "_view_name": "HTMLView",
       "description": "",
       "description_tooltip": null,
       "layout": "IPY_MODEL_6f61a2da59534ed2a6b5fb0f55f08d64",
       "placeholder": "​",
       "style": "IPY_MODEL_1c23b4d74a81447ca51dc348c9e0e9f2",
       "value": "100%"
      }
     },
     "140fd7ecd11340b996934fd906d0ff48": {
      "model_module": "@jupyter-widgets/base",
      "model_module_version": "1.2.0",
      "model_name": "LayoutModel",
      "state": {
       "_model_module": "@jupyter-widgets/base",
       "_model_module_version": "1.2.0",
       "_model_name": "LayoutModel",
       "_view_count": null,
       "_view_module": "@jupyter-widgets/base",
       "_view_module_version": "1.2.0",
       "_view_name": "LayoutView",
       "align_content": null,
       "align_items": null,
       "align_self": null,
       "border": null,
       "bottom": null,
       "display": null,
       "flex": null,
       "flex_flow": null,
       "grid_area": null,
       "grid_auto_columns": null,
       "grid_auto_flow": null,
       "grid_auto_rows": null,
       "grid_column": null,
       "grid_gap": null,
       "grid_row": null,
       "grid_template_areas": null,
       "grid_template_columns": null,
       "grid_template_rows": null,
       "height": null,
       "justify_content": null,
       "justify_items": null,
       "left": null,
       "margin": null,
       "max_height": null,
       "max_width": null,
       "min_height": null,
       "min_width": null,
       "object_fit": null,
       "object_position": null,
       "order": null,
       "overflow": null,
       "overflow_x": null,
       "overflow_y": null,
       "padding": null,
       "right": null,
       "top": null,
       "visibility": null,
       "width": null
      }
     },
     "1c23b4d74a81447ca51dc348c9e0e9f2": {
      "model_module": "@jupyter-widgets/controls",
      "model_module_version": "1.5.0",
      "model_name": "DescriptionStyleModel",
      "state": {
       "_model_module": "@jupyter-widgets/controls",
       "_model_module_version": "1.5.0",
       "_model_name": "DescriptionStyleModel",
       "_view_count": null,
       "_view_module": "@jupyter-widgets/base",
       "_view_module_version": "1.2.0",
       "_view_name": "StyleView",
       "description_width": ""
      }
     },
     "386f85e054c947179f198d9770c97486": {
      "model_module": "@jupyter-widgets/base",
      "model_module_version": "1.2.0",
      "model_name": "LayoutModel",
      "state": {
       "_model_module": "@jupyter-widgets/base",
       "_model_module_version": "1.2.0",
       "_model_name": "LayoutModel",
       "_view_count": null,
       "_view_module": "@jupyter-widgets/base",
       "_view_module_version": "1.2.0",
       "_view_name": "LayoutView",
       "align_content": null,
       "align_items": null,
       "align_self": null,
       "border": null,
       "bottom": null,
       "display": null,
       "flex": null,
       "flex_flow": null,
       "grid_area": null,
       "grid_auto_columns": null,
       "grid_auto_flow": null,
       "grid_auto_rows": null,
       "grid_column": null,
       "grid_gap": null,
       "grid_row": null,
       "grid_template_areas": null,
       "grid_template_columns": null,
       "grid_template_rows": null,
       "height": null,
       "justify_content": null,
       "justify_items": null,
       "left": null,
       "margin": null,
       "max_height": null,
       "max_width": null,
       "min_height": null,
       "min_width": null,
       "object_fit": null,
       "object_position": null,
       "order": null,
       "overflow": null,
       "overflow_x": null,
       "overflow_y": null,
       "padding": null,
       "right": null,
       "top": null,
       "visibility": null,
       "width": null
      }
     },
     "40ee7f8dae7c44b091834c69d992c4f1": {
      "model_module": "@jupyter-widgets/controls",
      "model_module_version": "1.5.0",
      "model_name": "HBoxModel",
      "state": {
       "_dom_classes": [],
       "_model_module": "@jupyter-widgets/controls",
       "_model_module_version": "1.5.0",
       "_model_name": "HBoxModel",
       "_view_count": null,
       "_view_module": "@jupyter-widgets/controls",
       "_view_module_version": "1.5.0",
       "_view_name": "HBoxView",
       "box_style": "",
       "children": [
        "IPY_MODEL_d897e0fac45f4a35842e8f866f1ab4ac",
        "IPY_MODEL_a6a7cc14f66d4cf99f941f6fa77567b5",
        "IPY_MODEL_66e1bdad8b234d5a9d0d46578e7d0eb4"
       ],
       "layout": "IPY_MODEL_140fd7ecd11340b996934fd906d0ff48"
      }
     },
     "4181df50ded34ada95ab38e49aa466b0": {
      "model_module": "@jupyter-widgets/base",
      "model_module_version": "1.2.0",
      "model_name": "LayoutModel",
      "state": {
       "_model_module": "@jupyter-widgets/base",
       "_model_module_version": "1.2.0",
       "_model_name": "LayoutModel",
       "_view_count": null,
       "_view_module": "@jupyter-widgets/base",
       "_view_module_version": "1.2.0",
       "_view_name": "LayoutView",
       "align_content": null,
       "align_items": null,
       "align_self": null,
       "border": null,
       "bottom": null,
       "display": null,
       "flex": null,
       "flex_flow": null,
       "grid_area": null,
       "grid_auto_columns": null,
       "grid_auto_flow": null,
       "grid_auto_rows": null,
       "grid_column": null,
       "grid_gap": null,
       "grid_row": null,
       "grid_template_areas": null,
       "grid_template_columns": null,
       "grid_template_rows": null,
       "height": null,
       "justify_content": null,
       "justify_items": null,
       "left": null,
       "margin": null,
       "max_height": null,
       "max_width": null,
       "min_height": null,
       "min_width": null,
       "object_fit": null,
       "object_position": null,
       "order": null,
       "overflow": null,
       "overflow_x": null,
       "overflow_y": null,
       "padding": null,
       "right": null,
       "top": null,
       "visibility": null,
       "width": null
      }
     },
     "490581de6d3d4e19bcc9a824bc5a4a39": {
      "model_module": "@jupyter-widgets/controls",
      "model_module_version": "1.5.0",
      "model_name": "ProgressStyleModel",
      "state": {
       "_model_module": "@jupyter-widgets/controls",
       "_model_module_version": "1.5.0",
       "_model_name": "ProgressStyleModel",
       "_view_count": null,
       "_view_module": "@jupyter-widgets/base",
       "_view_module_version": "1.2.0",
       "_view_name": "StyleView",
       "bar_color": null,
       "description_width": ""
      }
     },
     "4a5c5b797678469293f0428bfeda698e": {
      "model_module": "@jupyter-widgets/controls",
      "model_module_version": "1.5.0",
      "model_name": "HBoxModel",
      "state": {
       "_dom_classes": [],
       "_model_module": "@jupyter-widgets/controls",
       "_model_module_version": "1.5.0",
       "_model_name": "HBoxModel",
       "_view_count": null,
       "_view_module": "@jupyter-widgets/controls",
       "_view_module_version": "1.5.0",
       "_view_name": "HBoxView",
       "box_style": "",
       "children": [
        "IPY_MODEL_b3fbaae8f0964f289cc26c01b9bcee33",
        "IPY_MODEL_6299c7b783ed477eafd59e7a078211c4",
        "IPY_MODEL_852fb7621d6e4c54a9613c112b6ffd45"
       ],
       "layout": "IPY_MODEL_51c86d735a284d4e83897ecdd0989c56"
      }
     },
     "4bd11f681f20431ba5f44d7233a386f0": {
      "model_module": "@jupyter-widgets/controls",
      "model_module_version": "1.5.0",
      "model_name": "FloatProgressModel",
      "state": {
       "_dom_classes": [],
       "_model_module": "@jupyter-widgets/controls",
       "_model_module_version": "1.5.0",
       "_model_name": "FloatProgressModel",
       "_view_count": null,
       "_view_module": "@jupyter-widgets/controls",
       "_view_module_version": "1.5.0",
       "_view_name": "ProgressView",
       "bar_style": "success",
       "description": "",
       "description_tooltip": null,
       "layout": "IPY_MODEL_f34728e84d0445cca2ce89b2ee2d915f",
       "max": 1165.0,
       "min": 0.0,
       "orientation": "horizontal",
       "style": "IPY_MODEL_490581de6d3d4e19bcc9a824bc5a4a39",
       "value": 1165.0
      }
     },
     "4e8b22466896490fb20234df294b2752": {
      "model_module": "@jupyter-widgets/controls",
      "model_module_version": "1.5.0",
      "model_name": "DescriptionStyleModel",
      "state": {
       "_model_module": "@jupyter-widgets/controls",
       "_model_module_version": "1.5.0",
       "_model_name": "DescriptionStyleModel",
       "_view_count": null,
       "_view_module": "@jupyter-widgets/base",
       "_view_module_version": "1.2.0",
       "_view_name": "StyleView",
       "description_width": ""
      }
     },
     "51c86d735a284d4e83897ecdd0989c56": {
      "model_module": "@jupyter-widgets/base",
      "model_module_version": "1.2.0",
      "model_name": "LayoutModel",
      "state": {
       "_model_module": "@jupyter-widgets/base",
       "_model_module_version": "1.2.0",
       "_model_name": "LayoutModel",
       "_view_count": null,
       "_view_module": "@jupyter-widgets/base",
       "_view_module_version": "1.2.0",
       "_view_name": "LayoutView",
       "align_content": null,
       "align_items": null,
       "align_self": null,
       "border": null,
       "bottom": null,
       "display": null,
       "flex": null,
       "flex_flow": null,
       "grid_area": null,
       "grid_auto_columns": null,
       "grid_auto_flow": null,
       "grid_auto_rows": null,
       "grid_column": null,
       "grid_gap": null,
       "grid_row": null,
       "grid_template_areas": null,
       "grid_template_columns": null,
       "grid_template_rows": null,
       "height": null,
       "justify_content": null,
       "justify_items": null,
       "left": null,
       "margin": null,
       "max_height": null,
       "max_width": null,
       "min_height": null,
       "min_width": null,
       "object_fit": null,
       "object_position": null,
       "order": null,
       "overflow": null,
       "overflow_x": null,
       "overflow_y": null,
       "padding": null,
       "right": null,
       "top": null,
       "visibility": null,
       "width": null
      }
     },
     "5820906b928d4e82ab64e4c07269e2a9": {
      "model_module": "@jupyter-widgets/base",
      "model_module_version": "1.2.0",
      "model_name": "LayoutModel",
      "state": {
       "_model_module": "@jupyter-widgets/base",
       "_model_module_version": "1.2.0",
       "_model_name": "LayoutModel",
       "_view_count": null,
       "_view_module": "@jupyter-widgets/base",
       "_view_module_version": "1.2.0",
       "_view_name": "LayoutView",
       "align_content": null,
       "align_items": null,
       "align_self": null,
       "border": null,
       "bottom": null,
       "display": null,
       "flex": null,
       "flex_flow": null,
       "grid_area": null,
       "grid_auto_columns": null,
       "grid_auto_flow": null,
       "grid_auto_rows": null,
       "grid_column": null,
       "grid_gap": null,
       "grid_row": null,
       "grid_template_areas": null,
       "grid_template_columns": null,
       "grid_template_rows": null,
       "height": null,
       "justify_content": null,
       "justify_items": null,
       "left": null,
       "margin": null,
       "max_height": null,
       "max_width": null,
       "min_height": null,
       "min_width": null,
       "object_fit": null,
       "object_position": null,
       "order": null,
       "overflow": null,
       "overflow_x": null,
       "overflow_y": null,
       "padding": null,
       "right": null,
       "top": null,
       "visibility": null,
       "width": null
      }
     },
     "5dae514ec1ef4267bb7f8694abfaf0db": {
      "model_module": "@jupyter-widgets/controls",
      "model_module_version": "1.5.0",
      "model_name": "DescriptionStyleModel",
      "state": {
       "_model_module": "@jupyter-widgets/controls",
       "_model_module_version": "1.5.0",
       "_model_name": "DescriptionStyleModel",
       "_view_count": null,
       "_view_module": "@jupyter-widgets/base",
       "_view_module_version": "1.2.0",
       "_view_name": "StyleView",
       "description_width": ""
      }
     },
     "5fbf887319f3410884f6d26853d7a7fe": {
      "model_module": "@jupyter-widgets/controls",
      "model_module_version": "1.5.0",
      "model_name": "DescriptionStyleModel",
      "state": {
       "_model_module": "@jupyter-widgets/controls",
       "_model_module_version": "1.5.0",
       "_model_name": "DescriptionStyleModel",
       "_view_count": null,
       "_view_module": "@jupyter-widgets/base",
       "_view_module_version": "1.2.0",
       "_view_name": "StyleView",
       "description_width": ""
      }
     },
     "625bcfc5429747e6902f104ac809b17b": {
      "model_module": "@jupyter-widgets/controls",
      "model_module_version": "1.5.0",
      "model_name": "ProgressStyleModel",
      "state": {
       "_model_module": "@jupyter-widgets/controls",
       "_model_module_version": "1.5.0",
       "_model_name": "ProgressStyleModel",
       "_view_count": null,
       "_view_module": "@jupyter-widgets/base",
       "_view_module_version": "1.2.0",
       "_view_name": "StyleView",
       "bar_color": null,
       "description_width": ""
      }
     },
     "6299c7b783ed477eafd59e7a078211c4": {
      "model_module": "@jupyter-widgets/controls",
      "model_module_version": "1.5.0",
      "model_name": "FloatProgressModel",
      "state": {
       "_dom_classes": [],
       "_model_module": "@jupyter-widgets/controls",
       "_model_module_version": "1.5.0",
       "_model_name": "FloatProgressModel",
       "_view_count": null,
       "_view_module": "@jupyter-widgets/controls",
       "_view_module_version": "1.5.0",
       "_view_name": "ProgressView",
       "bar_style": "success",
       "description": "",
       "description_tooltip": null,
       "layout": "IPY_MODEL_6ee7a31f3d3d4792aadfe647f6b17b45",
       "max": 213.0,
       "min": 0.0,
       "orientation": "horizontal",
       "style": "IPY_MODEL_d567fa913a2d41f49bd504c27096b53c",
       "value": 213.0
      }
     },
     "66e1bdad8b234d5a9d0d46578e7d0eb4": {
      "model_module": "@jupyter-widgets/controls",
      "model_module_version": "1.5.0",
      "model_name": "HTMLModel",
      "state": {
       "_dom_classes": [],
       "_model_module": "@jupyter-widgets/controls",
       "_model_module_version": "1.5.0",
       "_model_name": "HTMLModel",
       "_view_count": null,
       "_view_module": "@jupyter-widgets/controls",
       "_view_module_version": "1.5.0",
       "_view_name": "HTMLView",
       "description": "",
       "description_tooltip": null,
       "layout": "IPY_MODEL_9642cf67e79f4969b9b5d332598e6622",
       "placeholder": "​",
       "style": "IPY_MODEL_d6c2a1f287d34d0bb97b169bd9309d79",
       "value": " 100/100 [06:05&lt;00:00,  3.51s/it]"
      }
     },
     "6ee7a31f3d3d4792aadfe647f6b17b45": {
      "model_module": "@jupyter-widgets/base",
      "model_module_version": "1.2.0",
      "model_name": "LayoutModel",
      "state": {
       "_model_module": "@jupyter-widgets/base",
       "_model_module_version": "1.2.0",
       "_model_name": "LayoutModel",
       "_view_count": null,
       "_view_module": "@jupyter-widgets/base",
       "_view_module_version": "1.2.0",
       "_view_name": "LayoutView",
       "align_content": null,
       "align_items": null,
       "align_self": null,
       "border": null,
       "bottom": null,
       "display": null,
       "flex": null,
       "flex_flow": null,
       "grid_area": null,
       "grid_auto_columns": null,
       "grid_auto_flow": null,
       "grid_auto_rows": null,
       "grid_column": null,
       "grid_gap": null,
       "grid_row": null,
       "grid_template_areas": null,
       "grid_template_columns": null,
       "grid_template_rows": null,
       "height": null,
       "justify_content": null,
       "justify_items": null,
       "left": null,
       "margin": null,
       "max_height": null,
       "max_width": null,
       "min_height": null,
       "min_width": null,
       "object_fit": null,
       "object_position": null,
       "order": null,
       "overflow": null,
       "overflow_x": null,
       "overflow_y": null,
       "padding": null,
       "right": null,
       "top": null,
       "visibility": null,
       "width": null
      }
     },
     "6f61a2da59534ed2a6b5fb0f55f08d64": {
      "model_module": "@jupyter-widgets/base",
      "model_module_version": "1.2.0",
      "model_name": "LayoutModel",
      "state": {
       "_model_module": "@jupyter-widgets/base",
       "_model_module_version": "1.2.0",
       "_model_name": "LayoutModel",
       "_view_count": null,
       "_view_module": "@jupyter-widgets/base",
       "_view_module_version": "1.2.0",
       "_view_name": "LayoutView",
       "align_content": null,
       "align_items": null,
       "align_self": null,
       "border": null,
       "bottom": null,
       "display": null,
       "flex": null,
       "flex_flow": null,
       "grid_area": null,
       "grid_auto_columns": null,
       "grid_auto_flow": null,
       "grid_auto_rows": null,
       "grid_column": null,
       "grid_gap": null,
       "grid_row": null,
       "grid_template_areas": null,
       "grid_template_columns": null,
       "grid_template_rows": null,
       "height": null,
       "justify_content": null,
       "justify_items": null,
       "left": null,
       "margin": null,
       "max_height": null,
       "max_width": null,
       "min_height": null,
       "min_width": null,
       "object_fit": null,
       "object_position": null,
       "order": null,
       "overflow": null,
       "overflow_x": null,
       "overflow_y": null,
       "padding": null,
       "right": null,
       "top": null,
       "visibility": null,
       "width": null
      }
     },
     "852fb7621d6e4c54a9613c112b6ffd45": {
      "model_module": "@jupyter-widgets/controls",
      "model_module_version": "1.5.0",
      "model_name": "HTMLModel",
      "state": {
       "_dom_classes": [],
       "_model_module": "@jupyter-widgets/controls",
       "_model_module_version": "1.5.0",
       "_model_name": "HTMLModel",
       "_view_count": null,
       "_view_module": "@jupyter-widgets/controls",
       "_view_module_version": "1.5.0",
       "_view_name": "HTMLView",
       "description": "",
       "description_tooltip": null,
       "layout": "IPY_MODEL_fa97502bbd164eabbc6c72c801871811",
       "placeholder": "​",
       "style": "IPY_MODEL_4e8b22466896490fb20234df294b2752",
       "value": " 213/213 [01:18&lt;00:00,  4.02it/s]"
      }
     },
     "87244af6bb034906aa530ef35c90eece": {
      "model_module": "@jupyter-widgets/controls",
      "model_module_version": "1.5.0",
      "model_name": "HBoxModel",
      "state": {
       "_dom_classes": [],
       "_model_module": "@jupyter-widgets/controls",
       "_model_module_version": "1.5.0",
       "_model_name": "HBoxModel",
       "_view_count": null,
       "_view_module": "@jupyter-widgets/controls",
       "_view_module_version": "1.5.0",
       "_view_name": "HBoxView",
       "box_style": "",
       "children": [
        "IPY_MODEL_0e38b900b8b74c7baba7ddabae1dcaf6",
        "IPY_MODEL_4bd11f681f20431ba5f44d7233a386f0",
        "IPY_MODEL_c6087b36626d40bba126c3e70af93fbb"
       ],
       "layout": "IPY_MODEL_0d3cda729a25459f8a2d5f41474a32ea"
      }
     },
     "9642cf67e79f4969b9b5d332598e6622": {
      "model_module": "@jupyter-widgets/base",
      "model_module_version": "1.2.0",
      "model_name": "LayoutModel",
      "state": {
       "_model_module": "@jupyter-widgets/base",
       "_model_module_version": "1.2.0",
       "_model_name": "LayoutModel",
       "_view_count": null,
       "_view_module": "@jupyter-widgets/base",
       "_view_module_version": "1.2.0",
       "_view_name": "LayoutView",
       "align_content": null,
       "align_items": null,
       "align_self": null,
       "border": null,
       "bottom": null,
       "display": null,
       "flex": null,
       "flex_flow": null,
       "grid_area": null,
       "grid_auto_columns": null,
       "grid_auto_flow": null,
       "grid_auto_rows": null,
       "grid_column": null,
       "grid_gap": null,
       "grid_row": null,
       "grid_template_areas": null,
       "grid_template_columns": null,
       "grid_template_rows": null,
       "height": null,
       "justify_content": null,
       "justify_items": null,
       "left": null,
       "margin": null,
       "max_height": null,
       "max_width": null,
       "min_height": null,
       "min_width": null,
       "object_fit": null,
       "object_position": null,
       "order": null,
       "overflow": null,
       "overflow_x": null,
       "overflow_y": null,
       "padding": null,
       "right": null,
       "top": null,
       "visibility": null,
       "width": null
      }
     },
     "a6a7cc14f66d4cf99f941f6fa77567b5": {
      "model_module": "@jupyter-widgets/controls",
      "model_module_version": "1.5.0",
      "model_name": "FloatProgressModel",
      "state": {
       "_dom_classes": [],
       "_model_module": "@jupyter-widgets/controls",
       "_model_module_version": "1.5.0",
       "_model_name": "FloatProgressModel",
       "_view_count": null,
       "_view_module": "@jupyter-widgets/controls",
       "_view_module_version": "1.5.0",
       "_view_name": "ProgressView",
       "bar_style": "success",
       "description": "",
       "description_tooltip": null,
       "layout": "IPY_MODEL_5820906b928d4e82ab64e4c07269e2a9",
       "max": 100.0,
       "min": 0.0,
       "orientation": "horizontal",
       "style": "IPY_MODEL_625bcfc5429747e6902f104ac809b17b",
       "value": 100.0
      }
     },
     "b3fbaae8f0964f289cc26c01b9bcee33": {
      "model_module": "@jupyter-widgets/controls",
      "model_module_version": "1.5.0",
      "model_name": "HTMLModel",
      "state": {
       "_dom_classes": [],
       "_model_module": "@jupyter-widgets/controls",
       "_model_module_version": "1.5.0",
       "_model_name": "HTMLModel",
       "_view_count": null,
       "_view_module": "@jupyter-widgets/controls",
       "_view_module_version": "1.5.0",
       "_view_name": "HTMLView",
       "description": "",
       "description_tooltip": null,
       "layout": "IPY_MODEL_b55f37092f444cce98de6ad129a244b3",
       "placeholder": "​",
       "style": "IPY_MODEL_5fbf887319f3410884f6d26853d7a7fe",
       "value": "100%"
      }
     },
     "b55f37092f444cce98de6ad129a244b3": {
      "model_module": "@jupyter-widgets/base",
      "model_module_version": "1.2.0",
      "model_name": "LayoutModel",
      "state": {
       "_model_module": "@jupyter-widgets/base",
       "_model_module_version": "1.2.0",
       "_model_name": "LayoutModel",
       "_view_count": null,
       "_view_module": "@jupyter-widgets/base",
       "_view_module_version": "1.2.0",
       "_view_name": "LayoutView",
       "align_content": null,
       "align_items": null,
       "align_self": null,
       "border": null,
       "bottom": null,
       "display": null,
       "flex": null,
       "flex_flow": null,
       "grid_area": null,
       "grid_auto_columns": null,
       "grid_auto_flow": null,
       "grid_auto_rows": null,
       "grid_column": null,
       "grid_gap": null,
       "grid_row": null,
       "grid_template_areas": null,
       "grid_template_columns": null,
       "grid_template_rows": null,
       "height": null,
       "justify_content": null,
       "justify_items": null,
       "left": null,
       "margin": null,
       "max_height": null,
       "max_width": null,
       "min_height": null,
       "min_width": null,
       "object_fit": null,
       "object_position": null,
       "order": null,
       "overflow": null,
       "overflow_x": null,
       "overflow_y": null,
       "padding": null,
       "right": null,
       "top": null,
       "visibility": null,
       "width": null
      }
     },
     "c2143e8f2f87447998c87fd636857e70": {
      "model_module": "@jupyter-widgets/controls",
      "model_module_version": "1.5.0",
      "model_name": "DescriptionStyleModel",
      "state": {
       "_model_module": "@jupyter-widgets/controls",
       "_model_module_version": "1.5.0",
       "_model_name": "DescriptionStyleModel",
       "_view_count": null,
       "_view_module": "@jupyter-widgets/base",
       "_view_module_version": "1.2.0",
       "_view_name": "StyleView",
       "description_width": ""
      }
     },
     "c6087b36626d40bba126c3e70af93fbb": {
      "model_module": "@jupyter-widgets/controls",
      "model_module_version": "1.5.0",
      "model_name": "HTMLModel",
      "state": {
       "_dom_classes": [],
       "_model_module": "@jupyter-widgets/controls",
       "_model_module_version": "1.5.0",
       "_model_name": "HTMLModel",
       "_view_count": null,
       "_view_module": "@jupyter-widgets/controls",
       "_view_module_version": "1.5.0",
       "_view_name": "HTMLView",
       "description": "",
       "description_tooltip": null,
       "layout": "IPY_MODEL_4181df50ded34ada95ab38e49aa466b0",
       "placeholder": "​",
       "style": "IPY_MODEL_c2143e8f2f87447998c87fd636857e70",
       "value": " 1165/1165 [07:32&lt;00:00,  2.86it/s]"
      }
     },
     "d567fa913a2d41f49bd504c27096b53c": {
      "model_module": "@jupyter-widgets/controls",
      "model_module_version": "1.5.0",
      "model_name": "ProgressStyleModel",
      "state": {
       "_model_module": "@jupyter-widgets/controls",
       "_model_module_version": "1.5.0",
       "_model_name": "ProgressStyleModel",
       "_view_count": null,
       "_view_module": "@jupyter-widgets/base",
       "_view_module_version": "1.2.0",
       "_view_name": "StyleView",
       "bar_color": null,
       "description_width": ""
      }
     },
     "d6c2a1f287d34d0bb97b169bd9309d79": {
      "model_module": "@jupyter-widgets/controls",
      "model_module_version": "1.5.0",
      "model_name": "DescriptionStyleModel",
      "state": {
       "_model_module": "@jupyter-widgets/controls",
       "_model_module_version": "1.5.0",
       "_model_name": "DescriptionStyleModel",
       "_view_count": null,
       "_view_module": "@jupyter-widgets/base",
       "_view_module_version": "1.2.0",
       "_view_name": "StyleView",
       "description_width": ""
      }
     },
     "d897e0fac45f4a35842e8f866f1ab4ac": {
      "model_module": "@jupyter-widgets/controls",
      "model_module_version": "1.5.0",
      "model_name": "HTMLModel",
      "state": {
       "_dom_classes": [],
       "_model_module": "@jupyter-widgets/controls",
       "_model_module_version": "1.5.0",
       "_model_name": "HTMLModel",
       "_view_count": null,
       "_view_module": "@jupyter-widgets/controls",
       "_view_module_version": "1.5.0",
       "_view_name": "HTMLView",
       "description": "",
       "description_tooltip": null,
       "layout": "IPY_MODEL_386f85e054c947179f198d9770c97486",
       "placeholder": "​",
       "style": "IPY_MODEL_5dae514ec1ef4267bb7f8694abfaf0db",
       "value": "100%"
      }
     },
     "f34728e84d0445cca2ce89b2ee2d915f": {
      "model_module": "@jupyter-widgets/base",
      "model_module_version": "1.2.0",
      "model_name": "LayoutModel",
      "state": {
       "_model_module": "@jupyter-widgets/base",
       "_model_module_version": "1.2.0",
       "_model_name": "LayoutModel",
       "_view_count": null,
       "_view_module": "@jupyter-widgets/base",
       "_view_module_version": "1.2.0",
       "_view_name": "LayoutView",
       "align_content": null,
       "align_items": null,
       "align_self": null,
       "border": null,
       "bottom": null,
       "display": null,
       "flex": null,
       "flex_flow": null,
       "grid_area": null,
       "grid_auto_columns": null,
       "grid_auto_flow": null,
       "grid_auto_rows": null,
       "grid_column": null,
       "grid_gap": null,
       "grid_row": null,
       "grid_template_areas": null,
       "grid_template_columns": null,
       "grid_template_rows": null,
       "height": null,
       "justify_content": null,
       "justify_items": null,
       "left": null,
       "margin": null,
       "max_height": null,
       "max_width": null,
       "min_height": null,
       "min_width": null,
       "object_fit": null,
       "object_position": null,
       "order": null,
       "overflow": null,
       "overflow_x": null,
       "overflow_y": null,
       "padding": null,
       "right": null,
       "top": null,
       "visibility": null,
       "width": null
      }
     },
     "fa97502bbd164eabbc6c72c801871811": {
      "model_module": "@jupyter-widgets/base",
      "model_module_version": "1.2.0",
      "model_name": "LayoutModel",
      "state": {
       "_model_module": "@jupyter-widgets/base",
       "_model_module_version": "1.2.0",
       "_model_name": "LayoutModel",
       "_view_count": null,
       "_view_module": "@jupyter-widgets/base",
       "_view_module_version": "1.2.0",
       "_view_name": "LayoutView",
       "align_content": null,
       "align_items": null,
       "align_self": null,
       "border": null,
       "bottom": null,
       "display": null,
       "flex": null,
       "flex_flow": null,
       "grid_area": null,
       "grid_auto_columns": null,
       "grid_auto_flow": null,
       "grid_auto_rows": null,
       "grid_column": null,
       "grid_gap": null,
       "grid_row": null,
       "grid_template_areas": null,
       "grid_template_columns": null,
       "grid_template_rows": null,
       "height": null,
       "justify_content": null,
       "justify_items": null,
       "left": null,
       "margin": null,
       "max_height": null,
       "max_width": null,
       "min_height": null,
       "min_width": null,
       "object_fit": null,
       "object_position": null,
       "order": null,
       "overflow": null,
       "overflow_x": null,
       "overflow_y": null,
       "padding": null,
       "right": null,
       "top": null,
       "visibility": null,
       "width": null
      }
     }
    },
    "version_major": 2.0,
    "version_minor": 0.0
   }
  }
 },
 "nbformat": 4,
 "nbformat_minor": 5
}
